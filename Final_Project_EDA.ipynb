{
  "nbformat": 4,
  "nbformat_minor": 0,
  "metadata": {
    "colab": {
      "name": "Final_Project_EDA.ipynb",
      "provenance": [],
      "collapsed_sections": [
        "2THOyTEQsDH8",
        "gVMWrMKeCaSB",
        "K_VdpgCBr4cF",
        "yN5wQ112HDDd",
        "TcjmQBh2sTqF"
      ]
    },
    "kernelspec": {
      "display_name": "Python 3",
      "language": "python",
      "name": "python3"
    },
    "language_info": {
      "codemirror_mode": {
        "name": "ipython",
        "version": 3
      },
      "file_extension": ".py",
      "mimetype": "text/x-python",
      "name": "python",
      "nbconvert_exporter": "python",
      "pygments_lexer": "ipython3",
      "version": "3.7.8"
    }
  },
  "cells": [
    {
      "cell_type": "markdown",
      "metadata": {
        "id": "alIhdohcsHVi"
      },
      "source": [
        "# **EDA PROJECT**\r\n",
        "\r\n",
        "Avram Mihai, Ghdadamiyan Lida, Patrascu Valentin (407 AI), Neferu Ana Maria (405 BDTS)"
      ]
    },
    {
      "cell_type": "markdown",
      "metadata": {
        "id": "2THOyTEQsDH8"
      },
      "source": [
        "# Loading the data"
      ]
    },
    {
      "cell_type": "code",
      "metadata": {
        "id": "H4MxKTK_fo-e"
      },
      "source": [
        "import pandas as pd\n",
        "import numpy as np\n",
        "import seaborn as sns\n",
        "import matplotlib.pyplot as plt\n",
        "from sklearn.preprocessing import StandardScaler\n",
        "from sklearn.model_selection import train_test_split\n",
        "from sklearn.metrics import explained_variance_score, mean_squared_error, r2_score, mean_absolute_error, max_error\n",
        "\n",
        "from sklearn.model_selection import GridSearchCV\n",
        "from sklearn.linear_model import LinearRegression\n",
        "from sklearn.ensemble import RandomForestRegressor\n",
        "import xgboost as xgb\n",
        "from xgboost import XGBRegressor\n",
        "from sklearn.tree import DecisionTreeRegressor"
      ],
      "execution_count": 1,
      "outputs": []
    },
    {
      "cell_type": "code",
      "metadata": {
        "id": "poGz4kRxguLg"
      },
      "source": [
        "mydata = pd.read_csv('SolarPrediction.csv')"
      ],
      "execution_count": 2,
      "outputs": []
    },
    {
      "cell_type": "markdown",
      "metadata": {
        "id": "gVMWrMKeCaSB"
      },
      "source": [
        "# Data Preprocessing"
      ]
    },
    {
      "cell_type": "code",
      "metadata": {
        "colab": {
          "base_uri": "https://localhost:8080/",
          "height": 0
        },
        "id": "CedC8ao1g8yo",
        "outputId": "79808d0a-cbfb-41b6-e07f-87a4900bb985"
      },
      "source": [
        "mydata"
      ],
      "execution_count": 3,
      "outputs": [
        {
          "output_type": "execute_result",
          "data": {
            "text/html": [
              "<div>\n",
              "<style scoped>\n",
              "    .dataframe tbody tr th:only-of-type {\n",
              "        vertical-align: middle;\n",
              "    }\n",
              "\n",
              "    .dataframe tbody tr th {\n",
              "        vertical-align: top;\n",
              "    }\n",
              "\n",
              "    .dataframe thead th {\n",
              "        text-align: right;\n",
              "    }\n",
              "</style>\n",
              "<table border=\"1\" class=\"dataframe\">\n",
              "  <thead>\n",
              "    <tr style=\"text-align: right;\">\n",
              "      <th></th>\n",
              "      <th>UNIXTime</th>\n",
              "      <th>Data</th>\n",
              "      <th>Time</th>\n",
              "      <th>Radiation</th>\n",
              "      <th>Temperature</th>\n",
              "      <th>Pressure</th>\n",
              "      <th>Humidity</th>\n",
              "      <th>WindDirection(Degrees)</th>\n",
              "      <th>Speed</th>\n",
              "      <th>TimeSunRise</th>\n",
              "      <th>TimeSunSet</th>\n",
              "    </tr>\n",
              "  </thead>\n",
              "  <tbody>\n",
              "    <tr>\n",
              "      <th>0</th>\n",
              "      <td>1475229326</td>\n",
              "      <td>9/29/2016 12:00:00 AM</td>\n",
              "      <td>23:55:26</td>\n",
              "      <td>1.21</td>\n",
              "      <td>48</td>\n",
              "      <td>30.46</td>\n",
              "      <td>59</td>\n",
              "      <td>177.39</td>\n",
              "      <td>5.62</td>\n",
              "      <td>06:13:00</td>\n",
              "      <td>18:13:00</td>\n",
              "    </tr>\n",
              "    <tr>\n",
              "      <th>1</th>\n",
              "      <td>1475229023</td>\n",
              "      <td>9/29/2016 12:00:00 AM</td>\n",
              "      <td>23:50:23</td>\n",
              "      <td>1.21</td>\n",
              "      <td>48</td>\n",
              "      <td>30.46</td>\n",
              "      <td>58</td>\n",
              "      <td>176.78</td>\n",
              "      <td>3.37</td>\n",
              "      <td>06:13:00</td>\n",
              "      <td>18:13:00</td>\n",
              "    </tr>\n",
              "    <tr>\n",
              "      <th>2</th>\n",
              "      <td>1475228726</td>\n",
              "      <td>9/29/2016 12:00:00 AM</td>\n",
              "      <td>23:45:26</td>\n",
              "      <td>1.23</td>\n",
              "      <td>48</td>\n",
              "      <td>30.46</td>\n",
              "      <td>57</td>\n",
              "      <td>158.75</td>\n",
              "      <td>3.37</td>\n",
              "      <td>06:13:00</td>\n",
              "      <td>18:13:00</td>\n",
              "    </tr>\n",
              "    <tr>\n",
              "      <th>3</th>\n",
              "      <td>1475228421</td>\n",
              "      <td>9/29/2016 12:00:00 AM</td>\n",
              "      <td>23:40:21</td>\n",
              "      <td>1.21</td>\n",
              "      <td>48</td>\n",
              "      <td>30.46</td>\n",
              "      <td>60</td>\n",
              "      <td>137.71</td>\n",
              "      <td>3.37</td>\n",
              "      <td>06:13:00</td>\n",
              "      <td>18:13:00</td>\n",
              "    </tr>\n",
              "    <tr>\n",
              "      <th>4</th>\n",
              "      <td>1475228124</td>\n",
              "      <td>9/29/2016 12:00:00 AM</td>\n",
              "      <td>23:35:24</td>\n",
              "      <td>1.17</td>\n",
              "      <td>48</td>\n",
              "      <td>30.46</td>\n",
              "      <td>62</td>\n",
              "      <td>104.95</td>\n",
              "      <td>5.62</td>\n",
              "      <td>06:13:00</td>\n",
              "      <td>18:13:00</td>\n",
              "    </tr>\n",
              "    <tr>\n",
              "      <th>...</th>\n",
              "      <td>...</td>\n",
              "      <td>...</td>\n",
              "      <td>...</td>\n",
              "      <td>...</td>\n",
              "      <td>...</td>\n",
              "      <td>...</td>\n",
              "      <td>...</td>\n",
              "      <td>...</td>\n",
              "      <td>...</td>\n",
              "      <td>...</td>\n",
              "      <td>...</td>\n",
              "    </tr>\n",
              "    <tr>\n",
              "      <th>32681</th>\n",
              "      <td>1480587604</td>\n",
              "      <td>12/1/2016 12:00:00 AM</td>\n",
              "      <td>00:20:04</td>\n",
              "      <td>1.22</td>\n",
              "      <td>44</td>\n",
              "      <td>30.43</td>\n",
              "      <td>102</td>\n",
              "      <td>145.42</td>\n",
              "      <td>6.75</td>\n",
              "      <td>06:41:00</td>\n",
              "      <td>17:42:00</td>\n",
              "    </tr>\n",
              "    <tr>\n",
              "      <th>32682</th>\n",
              "      <td>1480587301</td>\n",
              "      <td>12/1/2016 12:00:00 AM</td>\n",
              "      <td>00:15:01</td>\n",
              "      <td>1.17</td>\n",
              "      <td>44</td>\n",
              "      <td>30.42</td>\n",
              "      <td>102</td>\n",
              "      <td>117.78</td>\n",
              "      <td>6.75</td>\n",
              "      <td>06:41:00</td>\n",
              "      <td>17:42:00</td>\n",
              "    </tr>\n",
              "    <tr>\n",
              "      <th>32683</th>\n",
              "      <td>1480587001</td>\n",
              "      <td>12/1/2016 12:00:00 AM</td>\n",
              "      <td>00:10:01</td>\n",
              "      <td>1.20</td>\n",
              "      <td>44</td>\n",
              "      <td>30.42</td>\n",
              "      <td>102</td>\n",
              "      <td>145.19</td>\n",
              "      <td>9.00</td>\n",
              "      <td>06:41:00</td>\n",
              "      <td>17:42:00</td>\n",
              "    </tr>\n",
              "    <tr>\n",
              "      <th>32684</th>\n",
              "      <td>1480586702</td>\n",
              "      <td>12/1/2016 12:00:00 AM</td>\n",
              "      <td>00:05:02</td>\n",
              "      <td>1.23</td>\n",
              "      <td>44</td>\n",
              "      <td>30.42</td>\n",
              "      <td>101</td>\n",
              "      <td>164.19</td>\n",
              "      <td>7.87</td>\n",
              "      <td>06:41:00</td>\n",
              "      <td>17:42:00</td>\n",
              "    </tr>\n",
              "    <tr>\n",
              "      <th>32685</th>\n",
              "      <td>1480586402</td>\n",
              "      <td>12/1/2016 12:00:00 AM</td>\n",
              "      <td>00:00:02</td>\n",
              "      <td>1.20</td>\n",
              "      <td>44</td>\n",
              "      <td>30.43</td>\n",
              "      <td>101</td>\n",
              "      <td>83.59</td>\n",
              "      <td>3.37</td>\n",
              "      <td>06:41:00</td>\n",
              "      <td>17:42:00</td>\n",
              "    </tr>\n",
              "  </tbody>\n",
              "</table>\n",
              "<p>32686 rows × 11 columns</p>\n",
              "</div>"
            ],
            "text/plain": [
              "         UNIXTime                   Data  ... TimeSunRise  TimeSunSet\n",
              "0      1475229326  9/29/2016 12:00:00 AM  ...    06:13:00    18:13:00\n",
              "1      1475229023  9/29/2016 12:00:00 AM  ...    06:13:00    18:13:00\n",
              "2      1475228726  9/29/2016 12:00:00 AM  ...    06:13:00    18:13:00\n",
              "3      1475228421  9/29/2016 12:00:00 AM  ...    06:13:00    18:13:00\n",
              "4      1475228124  9/29/2016 12:00:00 AM  ...    06:13:00    18:13:00\n",
              "...           ...                    ...  ...         ...         ...\n",
              "32681  1480587604  12/1/2016 12:00:00 AM  ...    06:41:00    17:42:00\n",
              "32682  1480587301  12/1/2016 12:00:00 AM  ...    06:41:00    17:42:00\n",
              "32683  1480587001  12/1/2016 12:00:00 AM  ...    06:41:00    17:42:00\n",
              "32684  1480586702  12/1/2016 12:00:00 AM  ...    06:41:00    17:42:00\n",
              "32685  1480586402  12/1/2016 12:00:00 AM  ...    06:41:00    17:42:00\n",
              "\n",
              "[32686 rows x 11 columns]"
            ]
          },
          "metadata": {
            "tags": []
          },
          "execution_count": 3
        }
      ]
    },
    {
      "cell_type": "code",
      "metadata": {
        "id": "NHFJlj8-zXCd"
      },
      "source": [
        "import datetime\n",
        "\n",
        "#Date\n",
        "\n",
        "mydata['Year'] = pd.DatetimeIndex(mydata['Data']).year\n",
        "mydata['Month'] = pd.DatetimeIndex(mydata['Data']).month\n",
        "mydata['Day'] = pd.DatetimeIndex(mydata['Data']).day\n",
        "mydata.head()\n",
        "\n",
        "#Time \n",
        "\n",
        "mydata['Hour'] = pd.DatetimeIndex(mydata['Time']).hour\n",
        "mydata['Minute'] = pd.DatetimeIndex(mydata['Time']).minute\n",
        "mydata['Second'] = pd.DatetimeIndex(mydata['Time']).second\n",
        "\n",
        "mydata.head()\n",
        "\n",
        "\n",
        "mydata['SunPerDay'] = pd.DatetimeIndex(mydata['TimeSunSet']) - pd.DatetimeIndex(mydata['TimeSunRise'])\n",
        "mydata.head()\n",
        "\n",
        "mydata['SunPerDayHours'] = pd.DatetimeIndex(mydata['TimeSunSet']).hour - pd.DatetimeIndex(mydata['TimeSunRise']).hour \n",
        "\n"
      ],
      "execution_count": 4,
      "outputs": []
    },
    {
      "cell_type": "code",
      "metadata": {
        "colab": {
          "base_uri": "https://localhost:8080/",
          "height": 0
        },
        "id": "XJnh4eUvc1H7",
        "outputId": "a0b75734-f48e-4c9a-a956-39294487e2d6"
      },
      "source": [
        "mydata.drop('Time', axis = 1, inplace=True)\n",
        "mydata.drop('Data', axis = 1, inplace=True)\n",
        "mydata.drop('TimeSunRise', axis = 1, inplace=True)\n",
        "mydata.drop('TimeSunSet', axis = 1, inplace=True)\n",
        "mydata.drop('SunPerDay', axis = 1, inplace=True)\n",
        "\n",
        "mydata.head()"
      ],
      "execution_count": 5,
      "outputs": [
        {
          "output_type": "execute_result",
          "data": {
            "text/html": [
              "<div>\n",
              "<style scoped>\n",
              "    .dataframe tbody tr th:only-of-type {\n",
              "        vertical-align: middle;\n",
              "    }\n",
              "\n",
              "    .dataframe tbody tr th {\n",
              "        vertical-align: top;\n",
              "    }\n",
              "\n",
              "    .dataframe thead th {\n",
              "        text-align: right;\n",
              "    }\n",
              "</style>\n",
              "<table border=\"1\" class=\"dataframe\">\n",
              "  <thead>\n",
              "    <tr style=\"text-align: right;\">\n",
              "      <th></th>\n",
              "      <th>UNIXTime</th>\n",
              "      <th>Radiation</th>\n",
              "      <th>Temperature</th>\n",
              "      <th>Pressure</th>\n",
              "      <th>Humidity</th>\n",
              "      <th>WindDirection(Degrees)</th>\n",
              "      <th>Speed</th>\n",
              "      <th>Year</th>\n",
              "      <th>Month</th>\n",
              "      <th>Day</th>\n",
              "      <th>Hour</th>\n",
              "      <th>Minute</th>\n",
              "      <th>Second</th>\n",
              "      <th>SunPerDayHours</th>\n",
              "    </tr>\n",
              "  </thead>\n",
              "  <tbody>\n",
              "    <tr>\n",
              "      <th>0</th>\n",
              "      <td>1475229326</td>\n",
              "      <td>1.21</td>\n",
              "      <td>48</td>\n",
              "      <td>30.46</td>\n",
              "      <td>59</td>\n",
              "      <td>177.39</td>\n",
              "      <td>5.62</td>\n",
              "      <td>2016</td>\n",
              "      <td>9</td>\n",
              "      <td>29</td>\n",
              "      <td>23</td>\n",
              "      <td>55</td>\n",
              "      <td>26</td>\n",
              "      <td>12</td>\n",
              "    </tr>\n",
              "    <tr>\n",
              "      <th>1</th>\n",
              "      <td>1475229023</td>\n",
              "      <td>1.21</td>\n",
              "      <td>48</td>\n",
              "      <td>30.46</td>\n",
              "      <td>58</td>\n",
              "      <td>176.78</td>\n",
              "      <td>3.37</td>\n",
              "      <td>2016</td>\n",
              "      <td>9</td>\n",
              "      <td>29</td>\n",
              "      <td>23</td>\n",
              "      <td>50</td>\n",
              "      <td>23</td>\n",
              "      <td>12</td>\n",
              "    </tr>\n",
              "    <tr>\n",
              "      <th>2</th>\n",
              "      <td>1475228726</td>\n",
              "      <td>1.23</td>\n",
              "      <td>48</td>\n",
              "      <td>30.46</td>\n",
              "      <td>57</td>\n",
              "      <td>158.75</td>\n",
              "      <td>3.37</td>\n",
              "      <td>2016</td>\n",
              "      <td>9</td>\n",
              "      <td>29</td>\n",
              "      <td>23</td>\n",
              "      <td>45</td>\n",
              "      <td>26</td>\n",
              "      <td>12</td>\n",
              "    </tr>\n",
              "    <tr>\n",
              "      <th>3</th>\n",
              "      <td>1475228421</td>\n",
              "      <td>1.21</td>\n",
              "      <td>48</td>\n",
              "      <td>30.46</td>\n",
              "      <td>60</td>\n",
              "      <td>137.71</td>\n",
              "      <td>3.37</td>\n",
              "      <td>2016</td>\n",
              "      <td>9</td>\n",
              "      <td>29</td>\n",
              "      <td>23</td>\n",
              "      <td>40</td>\n",
              "      <td>21</td>\n",
              "      <td>12</td>\n",
              "    </tr>\n",
              "    <tr>\n",
              "      <th>4</th>\n",
              "      <td>1475228124</td>\n",
              "      <td>1.17</td>\n",
              "      <td>48</td>\n",
              "      <td>30.46</td>\n",
              "      <td>62</td>\n",
              "      <td>104.95</td>\n",
              "      <td>5.62</td>\n",
              "      <td>2016</td>\n",
              "      <td>9</td>\n",
              "      <td>29</td>\n",
              "      <td>23</td>\n",
              "      <td>35</td>\n",
              "      <td>24</td>\n",
              "      <td>12</td>\n",
              "    </tr>\n",
              "  </tbody>\n",
              "</table>\n",
              "</div>"
            ],
            "text/plain": [
              "     UNIXTime  Radiation  Temperature  ...  Minute  Second  SunPerDayHours\n",
              "0  1475229326       1.21           48  ...      55      26              12\n",
              "1  1475229023       1.21           48  ...      50      23              12\n",
              "2  1475228726       1.23           48  ...      45      26              12\n",
              "3  1475228421       1.21           48  ...      40      21              12\n",
              "4  1475228124       1.17           48  ...      35      24              12\n",
              "\n",
              "[5 rows x 14 columns]"
            ]
          },
          "metadata": {
            "tags": []
          },
          "execution_count": 5
        }
      ]
    },
    {
      "cell_type": "code",
      "metadata": {
        "colab": {
          "base_uri": "https://localhost:8080/"
        },
        "id": "5sbGgnatCjyV",
        "outputId": "97f949a0-363e-4d2e-b7fb-9aea4a422352"
      },
      "source": [
        "mydata.isnull().sum()"
      ],
      "execution_count": 6,
      "outputs": [
        {
          "output_type": "execute_result",
          "data": {
            "text/plain": [
              "UNIXTime                  0\n",
              "Radiation                 0\n",
              "Temperature               0\n",
              "Pressure                  0\n",
              "Humidity                  0\n",
              "WindDirection(Degrees)    0\n",
              "Speed                     0\n",
              "Year                      0\n",
              "Month                     0\n",
              "Day                       0\n",
              "Hour                      0\n",
              "Minute                    0\n",
              "Second                    0\n",
              "SunPerDayHours            0\n",
              "dtype: int64"
            ]
          },
          "metadata": {
            "tags": []
          },
          "execution_count": 6
        }
      ]
    },
    {
      "cell_type": "markdown",
      "metadata": {
        "id": "z028q7cRowuQ"
      },
      "source": [
        "We don't have Null values"
      ]
    },
    {
      "cell_type": "markdown",
      "metadata": {
        "id": "K_VdpgCBr4cF"
      },
      "source": [
        "# Filtering data"
      ]
    },
    {
      "cell_type": "code",
      "metadata": {
        "colab": {
          "base_uri": "https://localhost:8080/"
        },
        "id": "xKTasPLFob-N",
        "outputId": "b735812a-c6d9-47fb-fdb0-abb07434a521"
      },
      "source": [
        "mydata.info()"
      ],
      "execution_count": 7,
      "outputs": [
        {
          "output_type": "stream",
          "text": [
            "<class 'pandas.core.frame.DataFrame'>\n",
            "RangeIndex: 32686 entries, 0 to 32685\n",
            "Data columns (total 14 columns):\n",
            " #   Column                  Non-Null Count  Dtype  \n",
            "---  ------                  --------------  -----  \n",
            " 0   UNIXTime                32686 non-null  int64  \n",
            " 1   Radiation               32686 non-null  float64\n",
            " 2   Temperature             32686 non-null  int64  \n",
            " 3   Pressure                32686 non-null  float64\n",
            " 4   Humidity                32686 non-null  int64  \n",
            " 5   WindDirection(Degrees)  32686 non-null  float64\n",
            " 6   Speed                   32686 non-null  float64\n",
            " 7   Year                    32686 non-null  int64  \n",
            " 8   Month                   32686 non-null  int64  \n",
            " 9   Day                     32686 non-null  int64  \n",
            " 10  Hour                    32686 non-null  int64  \n",
            " 11  Minute                  32686 non-null  int64  \n",
            " 12  Second                  32686 non-null  int64  \n",
            " 13  SunPerDayHours          32686 non-null  int64  \n",
            "dtypes: float64(4), int64(10)\n",
            "memory usage: 3.5 MB\n"
          ],
          "name": "stdout"
        }
      ]
    },
    {
      "cell_type": "code",
      "metadata": {
        "colab": {
          "base_uri": "https://localhost:8080/",
          "height": 0
        },
        "id": "bzz6Bi_AhAOt",
        "outputId": "511de978-e7b2-4ad5-94c3-5d59d371fac7"
      },
      "source": [
        "mydata.describe()"
      ],
      "execution_count": 8,
      "outputs": [
        {
          "output_type": "execute_result",
          "data": {
            "text/html": [
              "<div>\n",
              "<style scoped>\n",
              "    .dataframe tbody tr th:only-of-type {\n",
              "        vertical-align: middle;\n",
              "    }\n",
              "\n",
              "    .dataframe tbody tr th {\n",
              "        vertical-align: top;\n",
              "    }\n",
              "\n",
              "    .dataframe thead th {\n",
              "        text-align: right;\n",
              "    }\n",
              "</style>\n",
              "<table border=\"1\" class=\"dataframe\">\n",
              "  <thead>\n",
              "    <tr style=\"text-align: right;\">\n",
              "      <th></th>\n",
              "      <th>UNIXTime</th>\n",
              "      <th>Radiation</th>\n",
              "      <th>Temperature</th>\n",
              "      <th>Pressure</th>\n",
              "      <th>Humidity</th>\n",
              "      <th>WindDirection(Degrees)</th>\n",
              "      <th>Speed</th>\n",
              "      <th>Year</th>\n",
              "      <th>Month</th>\n",
              "      <th>Day</th>\n",
              "      <th>Hour</th>\n",
              "      <th>Minute</th>\n",
              "      <th>Second</th>\n",
              "      <th>SunPerDayHours</th>\n",
              "    </tr>\n",
              "  </thead>\n",
              "  <tbody>\n",
              "    <tr>\n",
              "      <th>count</th>\n",
              "      <td>3.268600e+04</td>\n",
              "      <td>32686.000000</td>\n",
              "      <td>32686.000000</td>\n",
              "      <td>32686.000000</td>\n",
              "      <td>32686.000000</td>\n",
              "      <td>32686.000000</td>\n",
              "      <td>32686.000000</td>\n",
              "      <td>32686.0</td>\n",
              "      <td>32686.000000</td>\n",
              "      <td>32686.000000</td>\n",
              "      <td>32686.000000</td>\n",
              "      <td>32686.000000</td>\n",
              "      <td>32686.000000</td>\n",
              "      <td>32686.000000</td>\n",
              "    </tr>\n",
              "    <tr>\n",
              "      <th>mean</th>\n",
              "      <td>1.478047e+09</td>\n",
              "      <td>207.124697</td>\n",
              "      <td>51.103255</td>\n",
              "      <td>30.422879</td>\n",
              "      <td>75.016307</td>\n",
              "      <td>143.489821</td>\n",
              "      <td>6.243869</td>\n",
              "      <td>2016.0</td>\n",
              "      <td>10.526066</td>\n",
              "      <td>15.825766</td>\n",
              "      <td>11.557425</td>\n",
              "      <td>27.556691</td>\n",
              "      <td>17.441902</td>\n",
              "      <td>11.347886</td>\n",
              "    </tr>\n",
              "    <tr>\n",
              "      <th>std</th>\n",
              "      <td>3.005037e+06</td>\n",
              "      <td>315.916387</td>\n",
              "      <td>6.201157</td>\n",
              "      <td>0.054673</td>\n",
              "      <td>25.990219</td>\n",
              "      <td>83.167500</td>\n",
              "      <td>3.490474</td>\n",
              "      <td>0.0</td>\n",
              "      <td>1.096691</td>\n",
              "      <td>8.711824</td>\n",
              "      <td>6.912034</td>\n",
              "      <td>17.268507</td>\n",
              "      <td>12.951109</td>\n",
              "      <td>0.476307</td>\n",
              "    </tr>\n",
              "    <tr>\n",
              "      <th>min</th>\n",
              "      <td>1.472724e+09</td>\n",
              "      <td>1.110000</td>\n",
              "      <td>34.000000</td>\n",
              "      <td>30.190000</td>\n",
              "      <td>8.000000</td>\n",
              "      <td>0.090000</td>\n",
              "      <td>0.000000</td>\n",
              "      <td>2016.0</td>\n",
              "      <td>9.000000</td>\n",
              "      <td>1.000000</td>\n",
              "      <td>0.000000</td>\n",
              "      <td>0.000000</td>\n",
              "      <td>0.000000</td>\n",
              "      <td>11.000000</td>\n",
              "    </tr>\n",
              "    <tr>\n",
              "      <th>25%</th>\n",
              "      <td>1.475546e+09</td>\n",
              "      <td>1.230000</td>\n",
              "      <td>46.000000</td>\n",
              "      <td>30.400000</td>\n",
              "      <td>56.000000</td>\n",
              "      <td>82.227500</td>\n",
              "      <td>3.370000</td>\n",
              "      <td>2016.0</td>\n",
              "      <td>10.000000</td>\n",
              "      <td>9.000000</td>\n",
              "      <td>6.000000</td>\n",
              "      <td>15.000000</td>\n",
              "      <td>5.000000</td>\n",
              "      <td>11.000000</td>\n",
              "    </tr>\n",
              "    <tr>\n",
              "      <th>50%</th>\n",
              "      <td>1.478026e+09</td>\n",
              "      <td>2.660000</td>\n",
              "      <td>50.000000</td>\n",
              "      <td>30.430000</td>\n",
              "      <td>85.000000</td>\n",
              "      <td>147.700000</td>\n",
              "      <td>5.620000</td>\n",
              "      <td>2016.0</td>\n",
              "      <td>11.000000</td>\n",
              "      <td>16.000000</td>\n",
              "      <td>12.000000</td>\n",
              "      <td>30.000000</td>\n",
              "      <td>18.000000</td>\n",
              "      <td>11.000000</td>\n",
              "    </tr>\n",
              "    <tr>\n",
              "      <th>75%</th>\n",
              "      <td>1.480480e+09</td>\n",
              "      <td>354.235000</td>\n",
              "      <td>55.000000</td>\n",
              "      <td>30.460000</td>\n",
              "      <td>97.000000</td>\n",
              "      <td>179.310000</td>\n",
              "      <td>7.870000</td>\n",
              "      <td>2016.0</td>\n",
              "      <td>11.000000</td>\n",
              "      <td>23.000000</td>\n",
              "      <td>18.000000</td>\n",
              "      <td>45.000000</td>\n",
              "      <td>22.000000</td>\n",
              "      <td>12.000000</td>\n",
              "    </tr>\n",
              "    <tr>\n",
              "      <th>max</th>\n",
              "      <td>1.483265e+09</td>\n",
              "      <td>1601.260000</td>\n",
              "      <td>71.000000</td>\n",
              "      <td>30.560000</td>\n",
              "      <td>103.000000</td>\n",
              "      <td>359.950000</td>\n",
              "      <td>40.500000</td>\n",
              "      <td>2016.0</td>\n",
              "      <td>12.000000</td>\n",
              "      <td>31.000000</td>\n",
              "      <td>23.000000</td>\n",
              "      <td>57.000000</td>\n",
              "      <td>59.000000</td>\n",
              "      <td>12.000000</td>\n",
              "    </tr>\n",
              "  </tbody>\n",
              "</table>\n",
              "</div>"
            ],
            "text/plain": [
              "           UNIXTime     Radiation  ...        Second  SunPerDayHours\n",
              "count  3.268600e+04  32686.000000  ...  32686.000000    32686.000000\n",
              "mean   1.478047e+09    207.124697  ...     17.441902       11.347886\n",
              "std    3.005037e+06    315.916387  ...     12.951109        0.476307\n",
              "min    1.472724e+09      1.110000  ...      0.000000       11.000000\n",
              "25%    1.475546e+09      1.230000  ...      5.000000       11.000000\n",
              "50%    1.478026e+09      2.660000  ...     18.000000       11.000000\n",
              "75%    1.480480e+09    354.235000  ...     22.000000       12.000000\n",
              "max    1.483265e+09   1601.260000  ...     59.000000       12.000000\n",
              "\n",
              "[8 rows x 14 columns]"
            ]
          },
          "metadata": {
            "tags": []
          },
          "execution_count": 8
        }
      ]
    },
    {
      "cell_type": "code",
      "metadata": {
        "colab": {
          "base_uri": "https://localhost:8080/",
          "height": 0
        },
        "id": "gbCcjTixmmtY",
        "outputId": "048c1908-e873-4b00-e990-00cf268c8799"
      },
      "source": [
        "fig = plt.figure(figsize=(20,10))\n",
        "fig.suptitle('Feature Correlation', fontsize=18)\n",
        "sns.heatmap(mydata.corr(), annot=True, cmap='RdBu', center=0)"
      ],
      "execution_count": 9,
      "outputs": [
        {
          "output_type": "execute_result",
          "data": {
            "text/plain": [
              "<matplotlib.axes._subplots.AxesSubplot at 0x7fdf850498d0>"
            ]
          },
          "metadata": {
            "tags": []
          },
          "execution_count": 9
        },
        {
          "output_type": "display_data",
          "data": {
            "image/png": "[encoded data removed]",
            "text/plain": [
              "<Figure size 1440x720 with 2 Axes>"
            ]
          },
          "metadata": {
            "tags": [],
            "needs_background": "light"
          }
        }
      ]
    },
    {
      "cell_type": "code",
      "metadata": {
        "id": "oEL4DugAqVDf"
      },
      "source": [
        "# Eliminating the pozitive correlated data\n",
        "mydata.drop('UNIXTime', axis = 1, inplace=True)\n",
        "mydata.drop('Year', axis = 1, inplace=True)"
      ],
      "execution_count": 10,
      "outputs": []
    },
    {
      "cell_type": "code",
      "metadata": {
        "colab": {
          "base_uri": "https://localhost:8080/",
          "height": 0
        },
        "id": "VubQgOPJDDVw",
        "outputId": "8ae7adf6-c827-4980-f3bd-e14f94bf49fd"
      },
      "source": [
        "mydata.head()"
      ],
      "execution_count": 11,
      "outputs": [
        {
          "output_type": "execute_result",
          "data": {
            "text/html": [
              "<div>\n",
              "<style scoped>\n",
              "    .dataframe tbody tr th:only-of-type {\n",
              "        vertical-align: middle;\n",
              "    }\n",
              "\n",
              "    .dataframe tbody tr th {\n",
              "        vertical-align: top;\n",
              "    }\n",
              "\n",
              "    .dataframe thead th {\n",
              "        text-align: right;\n",
              "    }\n",
              "</style>\n",
              "<table border=\"1\" class=\"dataframe\">\n",
              "  <thead>\n",
              "    <tr style=\"text-align: right;\">\n",
              "      <th></th>\n",
              "      <th>Radiation</th>\n",
              "      <th>Temperature</th>\n",
              "      <th>Pressure</th>\n",
              "      <th>Humidity</th>\n",
              "      <th>WindDirection(Degrees)</th>\n",
              "      <th>Speed</th>\n",
              "      <th>Month</th>\n",
              "      <th>Day</th>\n",
              "      <th>Hour</th>\n",
              "      <th>Minute</th>\n",
              "      <th>Second</th>\n",
              "      <th>SunPerDayHours</th>\n",
              "    </tr>\n",
              "  </thead>\n",
              "  <tbody>\n",
              "    <tr>\n",
              "      <th>0</th>\n",
              "      <td>1.21</td>\n",
              "      <td>48</td>\n",
              "      <td>30.46</td>\n",
              "      <td>59</td>\n",
              "      <td>177.39</td>\n",
              "      <td>5.62</td>\n",
              "      <td>9</td>\n",
              "      <td>29</td>\n",
              "      <td>23</td>\n",
              "      <td>55</td>\n",
              "      <td>26</td>\n",
              "      <td>12</td>\n",
              "    </tr>\n",
              "    <tr>\n",
              "      <th>1</th>\n",
              "      <td>1.21</td>\n",
              "      <td>48</td>\n",
              "      <td>30.46</td>\n",
              "      <td>58</td>\n",
              "      <td>176.78</td>\n",
              "      <td>3.37</td>\n",
              "      <td>9</td>\n",
              "      <td>29</td>\n",
              "      <td>23</td>\n",
              "      <td>50</td>\n",
              "      <td>23</td>\n",
              "      <td>12</td>\n",
              "    </tr>\n",
              "    <tr>\n",
              "      <th>2</th>\n",
              "      <td>1.23</td>\n",
              "      <td>48</td>\n",
              "      <td>30.46</td>\n",
              "      <td>57</td>\n",
              "      <td>158.75</td>\n",
              "      <td>3.37</td>\n",
              "      <td>9</td>\n",
              "      <td>29</td>\n",
              "      <td>23</td>\n",
              "      <td>45</td>\n",
              "      <td>26</td>\n",
              "      <td>12</td>\n",
              "    </tr>\n",
              "    <tr>\n",
              "      <th>3</th>\n",
              "      <td>1.21</td>\n",
              "      <td>48</td>\n",
              "      <td>30.46</td>\n",
              "      <td>60</td>\n",
              "      <td>137.71</td>\n",
              "      <td>3.37</td>\n",
              "      <td>9</td>\n",
              "      <td>29</td>\n",
              "      <td>23</td>\n",
              "      <td>40</td>\n",
              "      <td>21</td>\n",
              "      <td>12</td>\n",
              "    </tr>\n",
              "    <tr>\n",
              "      <th>4</th>\n",
              "      <td>1.17</td>\n",
              "      <td>48</td>\n",
              "      <td>30.46</td>\n",
              "      <td>62</td>\n",
              "      <td>104.95</td>\n",
              "      <td>5.62</td>\n",
              "      <td>9</td>\n",
              "      <td>29</td>\n",
              "      <td>23</td>\n",
              "      <td>35</td>\n",
              "      <td>24</td>\n",
              "      <td>12</td>\n",
              "    </tr>\n",
              "  </tbody>\n",
              "</table>\n",
              "</div>"
            ],
            "text/plain": [
              "   Radiation  Temperature  Pressure  ...  Minute  Second  SunPerDayHours\n",
              "0       1.21           48     30.46  ...      55      26              12\n",
              "1       1.21           48     30.46  ...      50      23              12\n",
              "2       1.23           48     30.46  ...      45      26              12\n",
              "3       1.21           48     30.46  ...      40      21              12\n",
              "4       1.17           48     30.46  ...      35      24              12\n",
              "\n",
              "[5 rows x 12 columns]"
            ]
          },
          "metadata": {
            "tags": []
          },
          "execution_count": 11
        }
      ]
    },
    {
      "cell_type": "code",
      "metadata": {
        "id": "QpcR5cIrxoJR",
        "colab": {
          "base_uri": "https://localhost:8080/",
          "height": 0
        },
        "outputId": "4fcdd54a-a6fa-4abe-e6ef-decf6ce59e9b"
      },
      "source": [
        "fig = plt.figure(figsize=(20,10))\n",
        "fig.suptitle('Feature Correlation', fontsize=18)\n",
        "sns.heatmap(mydata.corr(), annot=True, cmap='RdBu', center=0)"
      ],
      "execution_count": 12,
      "outputs": [
        {
          "output_type": "execute_result",
          "data": {
            "text/plain": [
              "<matplotlib.axes._subplots.AxesSubplot at 0x7fdf817049b0>"
            ]
          },
          "metadata": {
            "tags": []
          },
          "execution_count": 12
        },
        {
          "output_type": "display_data",
          "data": {
            "image/png": "[encoded data removed]",
            "text/plain": [
              "<Figure size 1440x720 with 2 Axes>"
            ]
          },
          "metadata": {
            "tags": [],
            "needs_background": "light"
          }
        }
      ]
    },
    {
      "cell_type": "code",
      "metadata": {
        "colab": {
          "base_uri": "https://localhost:8080/",
          "height": 0
        },
        "id": "6gVoZNGS-dyc",
        "outputId": "6e96507d-dfbc-4ab0-bd92-66ee34bb5c4f"
      },
      "source": [
        "import seaborn as sns\r\n",
        "\r\n",
        "fig2 = plt.figure(figsize=(15,5))\r\n",
        "sns.barplot(x=mydata['Temperature'],y=mydata['Radiation'])"
      ],
      "execution_count": 13,
      "outputs": [
        {
          "output_type": "execute_result",
          "data": {
            "text/plain": [
              "<matplotlib.axes._subplots.AxesSubplot at 0x7fdf7fe45b38>"
            ]
          },
          "metadata": {
            "tags": []
          },
          "execution_count": 13
        },
        {
          "output_type": "display_data",
          "data": {
            "image/png": "[encoded data removed]",
            "text/plain": [
              "<Figure size 1080x360 with 1 Axes>"
            ]
          },
          "metadata": {
            "tags": [],
            "needs_background": "light"
          }
        }
      ]
    },
    {
      "cell_type": "markdown",
      "metadata": {
        "id": "FrwHcMLo_SeX"
      },
      "source": [
        "Temperature is directly proportional with the radiation, so it is an important feature"
      ]
    },
    {
      "cell_type": "code",
      "metadata": {
        "colab": {
          "base_uri": "https://localhost:8080/",
          "height": 0
        },
        "id": "1AJS4sgs-ry7",
        "outputId": "3cae5d53-d9d1-4214-cee5-aeb93fc3e62c"
      },
      "source": [
        "fig3 = plt.figure(figsize=(15,5))\r\n",
        "sns.barplot(x=mydata['Humidity'],y=mydata['Radiation'])"
      ],
      "execution_count": 14,
      "outputs": [
        {
          "output_type": "execute_result",
          "data": {
            "text/plain": [
              "<matplotlib.axes._subplots.AxesSubplot at 0x7fdf7fbbc940>"
            ]
          },
          "metadata": {
            "tags": []
          },
          "execution_count": 14
        },
        {
          "output_type": "display_data",
          "data": {
            "image/png": "[encoded data removed]",
            "text/plain": [
              "<Figure size 1080x360 with 1 Axes>"
            ]
          },
          "metadata": {
            "tags": [],
            "needs_background": "light"
          }
        }
      ]
    },
    {
      "cell_type": "markdown",
      "metadata": {
        "id": "yN5wQ112HDDd"
      },
      "source": [
        "# Outliers removal\r\n",
        "Applying Z score for every feature and keeping the one that its absolute value is smaller than our threshhold(3)"
      ]
    },
    {
      "cell_type": "code",
      "metadata": {
        "id": "X3iQpo_9f0gQ",
        "colab": {
          "base_uri": "https://localhost:8080/"
        },
        "outputId": "382eaa98-8b61-4546-ac64-c6d3acf148b2"
      },
      "source": [
        "# Temperature\tPressure\tHumidity\tWindDirection(Degrees)\tSpeed\tMonth\tDay\tHour\tMinute\tSecond\tSunPerDayHours\r\n",
        "threshold = 4\r\n",
        "\r\n",
        "outliers = [] \r\n",
        "\r\n",
        "for i in mydata['Temperature']: \r\n",
        "    z = (i- np.mean(mydata['Temperature']))/np.std(mydata['Temperature'])\r\n",
        "    if z > threshold: \r\n",
        "        outliers.append(i) \r\n",
        "print('The outliers in Temperature are: ', outliers) "
      ],
      "execution_count": 15,
      "outputs": [
        {
          "output_type": "stream",
          "text": [
            "The outliers in Temperature are:  []\n"
          ],
          "name": "stdout"
        }
      ]
    },
    {
      "cell_type": "code",
      "metadata": {
        "id": "iN6novQ1f7Mk",
        "colab": {
          "base_uri": "https://localhost:8080/"
        },
        "outputId": "e6709f20-7750-4c5b-ccc7-efc8e0bb6fb8"
      },
      "source": [
        "outliers = [] \r\n",
        "\r\n",
        "for i in mydata['Pressure']: \r\n",
        "    z = (i- np.mean(mydata['Pressure']))/np.std(mydata['Pressure'])\r\n",
        "    if z > threshold: \r\n",
        "        outliers.append(i) \r\n",
        "print('The outliers in Pressure are: ', outliers)"
      ],
      "execution_count": 16,
      "outputs": [
        {
          "output_type": "stream",
          "text": [
            "The outliers in Pressure are:  []\n"
          ],
          "name": "stdout"
        }
      ]
    },
    {
      "cell_type": "code",
      "metadata": {
        "id": "xesi7U7Af7J4",
        "colab": {
          "base_uri": "https://localhost:8080/"
        },
        "outputId": "6a4584c5-87b7-45dd-9e0c-f88466545c15"
      },
      "source": [
        "outliers = [] \r\n",
        "\r\n",
        "for i in mydata['Humidity']: \r\n",
        "    z = (i- np.mean(mydata['Humidity']))/np.std(mydata['Humidity'])\r\n",
        "    if z > threshold: \r\n",
        "        outliers.append(i) \r\n",
        "print('The outliers in Humidity are: ', outliers)"
      ],
      "execution_count": 17,
      "outputs": [
        {
          "output_type": "stream",
          "text": [
            "The outliers in Humidity are:  []\n"
          ],
          "name": "stdout"
        }
      ]
    },
    {
      "cell_type": "code",
      "metadata": {
        "id": "wWkbtreTf7Hc",
        "colab": {
          "base_uri": "https://localhost:8080/"
        },
        "outputId": "3ae3a254-8fdd-425d-aa85-10e33503558a"
      },
      "source": [
        "outliers = [] \r\n",
        "\r\n",
        "for i in mydata['WindDirection(Degrees)']: \r\n",
        "    z = (i- np.mean(mydata['WindDirection(Degrees)']))/np.std(mydata['WindDirection(Degrees)'])\r\n",
        "    if z > threshold: \r\n",
        "        outliers.append(i) \r\n",
        "print('The outliers in WindDirection(Degrees): ', outliers)"
      ],
      "execution_count": 18,
      "outputs": [
        {
          "output_type": "stream",
          "text": [
            "The outliers in WindDirection(Degrees):  []\n"
          ],
          "name": "stdout"
        }
      ]
    },
    {
      "cell_type": "code",
      "metadata": {
        "id": "k5xzAgaVf7Eu",
        "colab": {
          "base_uri": "https://localhost:8080/"
        },
        "outputId": "0a1e67b9-ed42-4fab-ef6e-e071fdc530df"
      },
      "source": [
        "outliers = [] \r\n",
        "\r\n",
        "for i in mydata['Speed']: \r\n",
        "    z = (i- np.mean(mydata['Speed']))/np.std(mydata['Speed'])\r\n",
        "    if z > threshold: \r\n",
        "        outliers.append(i) \r\n",
        "print('The outliers in Speed: ', outliers)"
      ],
      "execution_count": 19,
      "outputs": [
        {
          "output_type": "stream",
          "text": [
            "The outliers in Speed:  [20.25, 20.25, 20.25, 21.37, 23.62, 22.5, 22.5, 27.0, 20.25, 21.37, 23.62, 20.25, 29.25, 24.75, 23.62, 23.62, 24.75, 31.5, 23.62, 24.75, 20.25, 24.75, 23.62, 20.25, 20.25, 29.25, 23.62, 25.87, 33.75, 28.12, 36.0, 27.0, 24.75, 24.75, 31.5, 27.0, 32.62, 31.5, 30.37, 36.0, 22.5, 27.0, 25.87, 27.0, 33.75, 29.25, 21.37, 23.62, 20.25, 23.62, 33.75, 28.12, 36.0, 23.62, 25.87, 25.87, 32.62, 37.12, 25.87, 27.0, 21.37, 27.0, 24.75, 24.75, 28.12, 31.5, 23.62, 22.5, 24.75, 29.25, 28.12, 24.75, 30.37, 20.25, 25.87, 22.5, 21.37, 20.25, 30.37, 24.75, 31.5, 20.25, 30.37, 29.25, 31.5, 29.25, 34.87, 31.5, 38.25, 33.75, 21.37, 34.87, 24.75, 25.87, 28.12, 23.62, 32.62, 23.62, 32.62, 28.12, 29.25, 23.62, 21.37, 39.37, 32.62, 30.37, 38.25, 32.62, 21.37, 34.87, 37.12, 24.75, 40.5, 24.75, 28.12, 24.75, 31.5, 31.5, 22.5, 29.25, 25.87, 30.37, 32.62, 27.0, 29.25, 20.25, 22.5, 20.25, 20.25, 23.62, 20.25, 27.0, 20.25, 22.5, 24.75, 21.37, 21.37, 23.62, 20.25, 20.25, 20.25, 20.25, 20.25, 20.25, 25.87, 20.25, 21.37, 24.75, 20.25]\n"
          ],
          "name": "stdout"
        }
      ]
    },
    {
      "cell_type": "code",
      "metadata": {
        "id": "P8_pH146f7CH",
        "colab": {
          "base_uri": "https://localhost:8080/"
        },
        "outputId": "e81dab6a-3e06-4127-8dfa-edaa34ff126a"
      },
      "source": [
        "outliers = [] \r\n",
        "\r\n",
        "for i in mydata['Month']: \r\n",
        "    z = (i- np.mean(mydata['Month']))/np.std(mydata['Month'])\r\n",
        "    if z > threshold: \r\n",
        "        outliers.append(i) \r\n",
        "print('The outliers in Month: ', outliers)"
      ],
      "execution_count": 20,
      "outputs": [
        {
          "output_type": "stream",
          "text": [
            "The outliers in Month:  []\n"
          ],
          "name": "stdout"
        }
      ]
    },
    {
      "cell_type": "code",
      "metadata": {
        "id": "-KqXX8eUf6_i",
        "colab": {
          "base_uri": "https://localhost:8080/"
        },
        "outputId": "4fb7ada6-b8ad-4e62-f50e-86434c10f61a"
      },
      "source": [
        "threshold = 4\r\n",
        "outliers = [] \r\n",
        "\r\n",
        "for i in mydata['Day']: \r\n",
        "    z = (i- np.mean(mydata['Day']))/np.std(mydata['Day'])\r\n",
        "    if z > threshold: \r\n",
        "        outliers.append(i) \r\n",
        "print('The outliers in Day: ', outliers)"
      ],
      "execution_count": 21,
      "outputs": [
        {
          "output_type": "stream",
          "text": [
            "The outliers in Day:  []\n"
          ],
          "name": "stdout"
        }
      ]
    },
    {
      "cell_type": "code",
      "metadata": {
        "id": "w4vk3J9Zf69F",
        "colab": {
          "base_uri": "https://localhost:8080/"
        },
        "outputId": "c695fabf-24df-483f-9683-d4a41ba2de3a"
      },
      "source": [
        "outliers = [] \r\n",
        "\r\n",
        "for i in mydata['Hour']: \r\n",
        "    z = (i- np.mean(mydata['Hour']))/np.std(mydata['Hour'])\r\n",
        "    if z > threshold: \r\n",
        "        outliers.append(i) \r\n",
        "print('The outliers in Hour: ', outliers)"
      ],
      "execution_count": 22,
      "outputs": [
        {
          "output_type": "stream",
          "text": [
            "The outliers in Hour:  []\n"
          ],
          "name": "stdout"
        }
      ]
    },
    {
      "cell_type": "code",
      "metadata": {
        "id": "yjhF18lhf60Z",
        "colab": {
          "base_uri": "https://localhost:8080/"
        },
        "outputId": "f095fb79-0d65-459e-b22e-55ff492c4891"
      },
      "source": [
        "outliers = [] \r\n",
        "\r\n",
        "for i in mydata['Minute']: \r\n",
        "    z = (i- np.mean(mydata['Minute']))/np.std(mydata['Minute'])\r\n",
        "    if z > threshold: \r\n",
        "        outliers.append(i) \r\n",
        "print('The outliers in Minute: ', outliers)"
      ],
      "execution_count": 23,
      "outputs": [
        {
          "output_type": "stream",
          "text": [
            "The outliers in Minute:  []\n"
          ],
          "name": "stdout"
        }
      ]
    },
    {
      "cell_type": "code",
      "metadata": {
        "id": "iOTNRA64gSYJ",
        "colab": {
          "base_uri": "https://localhost:8080/"
        },
        "outputId": "2a45ff81-7149-4de0-dc05-a1ff372dd5bc"
      },
      "source": [
        "outliers = [] \r\n",
        "\r\n",
        "for i in mydata['Second']: \r\n",
        "    z = (i- np.mean(mydata['Second']))/np.std(mydata['Second'])\r\n",
        "    if z > threshold: \r\n",
        "        outliers.append(i) \r\n",
        "print('The outliers in Second: ', outliers)"
      ],
      "execution_count": 24,
      "outputs": [
        {
          "output_type": "stream",
          "text": [
            "The outliers in Second:  []\n"
          ],
          "name": "stdout"
        }
      ]
    },
    {
      "cell_type": "code",
      "metadata": {
        "id": "se4z5lVhgSSU",
        "colab": {
          "base_uri": "https://localhost:8080/"
        },
        "outputId": "0082e219-080a-43d2-fc1e-5731a4b9ecd2"
      },
      "source": [
        "outliers = [] \r\n",
        "\r\n",
        "for i in mydata['SunPerDayHours']: \r\n",
        "    z = (i- np.mean(mydata['SunPerDayHours']))/np.std(mydata['SunPerDayHours'])\r\n",
        "    if z > threshold: \r\n",
        "        outliers.append(i) \r\n",
        "print('The outliers in SunPerDayHours: ', outliers)"
      ],
      "execution_count": 25,
      "outputs": [
        {
          "output_type": "stream",
          "text": [
            "The outliers in SunPerDayHours:  []\n"
          ],
          "name": "stdout"
        }
      ]
    },
    {
      "cell_type": "code",
      "metadata": {
        "colab": {
          "base_uri": "https://localhost:8080/",
          "height": 0
        },
        "id": "hHxGAG9C6A-I",
        "outputId": "0cf6cbd1-8aba-4db1-c3fb-97ab4476a53f"
      },
      "source": [
        "plt.figure(figsize=(20,10))\n",
        "\n",
        "distr = mydata[[\"Temperature\",\"Pressure\",\"Humidity\",\"WindDirection(Degrees)\",\"Speed\"]]\n",
        "\n",
        "for i, column in enumerate(distr):\n",
        "    plt.subplot(2,3,i+1)\n",
        "    sns.histplot(distr[column],kde=True)"
      ],
      "execution_count": 26,
      "outputs": [
        {
          "output_type": "display_data",
          "data": {
            "image/png": "[encoded data removed]",
            "text/plain": [
              "<Figure size 1440x720 with 5 Axes>"
            ]
          },
          "metadata": {
            "tags": [],
            "needs_background": "light"
          }
        }
      ]
    },
    {
      "cell_type": "code",
      "metadata": {
        "id": "CYEYQQYagSBs",
        "colab": {
          "base_uri": "https://localhost:8080/",
          "height": 0
        },
        "outputId": "e556f0bb-7ac8-4e26-c64a-843359b128d5"
      },
      "source": [
        "from scipy import stats\r\n",
        "\r\n",
        "mydata[(np.abs(stats.zscore(mydata)) < 4).all(axis=1)]"
      ],
      "execution_count": 27,
      "outputs": [
        {
          "output_type": "execute_result",
          "data": {
            "text/html": [
              "<div>\n",
              "<style scoped>\n",
              "    .dataframe tbody tr th:only-of-type {\n",
              "        vertical-align: middle;\n",
              "    }\n",
              "\n",
              "    .dataframe tbody tr th {\n",
              "        vertical-align: top;\n",
              "    }\n",
              "\n",
              "    .dataframe thead th {\n",
              "        text-align: right;\n",
              "    }\n",
              "</style>\n",
              "<table border=\"1\" class=\"dataframe\">\n",
              "  <thead>\n",
              "    <tr style=\"text-align: right;\">\n",
              "      <th></th>\n",
              "      <th>Radiation</th>\n",
              "      <th>Temperature</th>\n",
              "      <th>Pressure</th>\n",
              "      <th>Humidity</th>\n",
              "      <th>WindDirection(Degrees)</th>\n",
              "      <th>Speed</th>\n",
              "      <th>Month</th>\n",
              "      <th>Day</th>\n",
              "      <th>Hour</th>\n",
              "      <th>Minute</th>\n",
              "      <th>Second</th>\n",
              "      <th>SunPerDayHours</th>\n",
              "    </tr>\n",
              "  </thead>\n",
              "  <tbody>\n",
              "    <tr>\n",
              "      <th>0</th>\n",
              "      <td>1.21</td>\n",
              "      <td>48</td>\n",
              "      <td>30.46</td>\n",
              "      <td>59</td>\n",
              "      <td>177.39</td>\n",
              "      <td>5.62</td>\n",
              "      <td>9</td>\n",
              "      <td>29</td>\n",
              "      <td>23</td>\n",
              "      <td>55</td>\n",
              "      <td>26</td>\n",
              "      <td>12</td>\n",
              "    </tr>\n",
              "    <tr>\n",
              "      <th>1</th>\n",
              "      <td>1.21</td>\n",
              "      <td>48</td>\n",
              "      <td>30.46</td>\n",
              "      <td>58</td>\n",
              "      <td>176.78</td>\n",
              "      <td>3.37</td>\n",
              "      <td>9</td>\n",
              "      <td>29</td>\n",
              "      <td>23</td>\n",
              "      <td>50</td>\n",
              "      <td>23</td>\n",
              "      <td>12</td>\n",
              "    </tr>\n",
              "    <tr>\n",
              "      <th>2</th>\n",
              "      <td>1.23</td>\n",
              "      <td>48</td>\n",
              "      <td>30.46</td>\n",
              "      <td>57</td>\n",
              "      <td>158.75</td>\n",
              "      <td>3.37</td>\n",
              "      <td>9</td>\n",
              "      <td>29</td>\n",
              "      <td>23</td>\n",
              "      <td>45</td>\n",
              "      <td>26</td>\n",
              "      <td>12</td>\n",
              "    </tr>\n",
              "    <tr>\n",
              "      <th>3</th>\n",
              "      <td>1.21</td>\n",
              "      <td>48</td>\n",
              "      <td>30.46</td>\n",
              "      <td>60</td>\n",
              "      <td>137.71</td>\n",
              "      <td>3.37</td>\n",
              "      <td>9</td>\n",
              "      <td>29</td>\n",
              "      <td>23</td>\n",
              "      <td>40</td>\n",
              "      <td>21</td>\n",
              "      <td>12</td>\n",
              "    </tr>\n",
              "    <tr>\n",
              "      <th>4</th>\n",
              "      <td>1.17</td>\n",
              "      <td>48</td>\n",
              "      <td>30.46</td>\n",
              "      <td>62</td>\n",
              "      <td>104.95</td>\n",
              "      <td>5.62</td>\n",
              "      <td>9</td>\n",
              "      <td>29</td>\n",
              "      <td>23</td>\n",
              "      <td>35</td>\n",
              "      <td>24</td>\n",
              "      <td>12</td>\n",
              "    </tr>\n",
              "    <tr>\n",
              "      <th>...</th>\n",
              "      <td>...</td>\n",
              "      <td>...</td>\n",
              "      <td>...</td>\n",
              "      <td>...</td>\n",
              "      <td>...</td>\n",
              "      <td>...</td>\n",
              "      <td>...</td>\n",
              "      <td>...</td>\n",
              "      <td>...</td>\n",
              "      <td>...</td>\n",
              "      <td>...</td>\n",
              "      <td>...</td>\n",
              "    </tr>\n",
              "    <tr>\n",
              "      <th>32681</th>\n",
              "      <td>1.22</td>\n",
              "      <td>44</td>\n",
              "      <td>30.43</td>\n",
              "      <td>102</td>\n",
              "      <td>145.42</td>\n",
              "      <td>6.75</td>\n",
              "      <td>12</td>\n",
              "      <td>1</td>\n",
              "      <td>0</td>\n",
              "      <td>20</td>\n",
              "      <td>4</td>\n",
              "      <td>11</td>\n",
              "    </tr>\n",
              "    <tr>\n",
              "      <th>32682</th>\n",
              "      <td>1.17</td>\n",
              "      <td>44</td>\n",
              "      <td>30.42</td>\n",
              "      <td>102</td>\n",
              "      <td>117.78</td>\n",
              "      <td>6.75</td>\n",
              "      <td>12</td>\n",
              "      <td>1</td>\n",
              "      <td>0</td>\n",
              "      <td>15</td>\n",
              "      <td>1</td>\n",
              "      <td>11</td>\n",
              "    </tr>\n",
              "    <tr>\n",
              "      <th>32683</th>\n",
              "      <td>1.20</td>\n",
              "      <td>44</td>\n",
              "      <td>30.42</td>\n",
              "      <td>102</td>\n",
              "      <td>145.19</td>\n",
              "      <td>9.00</td>\n",
              "      <td>12</td>\n",
              "      <td>1</td>\n",
              "      <td>0</td>\n",
              "      <td>10</td>\n",
              "      <td>1</td>\n",
              "      <td>11</td>\n",
              "    </tr>\n",
              "    <tr>\n",
              "      <th>32684</th>\n",
              "      <td>1.23</td>\n",
              "      <td>44</td>\n",
              "      <td>30.42</td>\n",
              "      <td>101</td>\n",
              "      <td>164.19</td>\n",
              "      <td>7.87</td>\n",
              "      <td>12</td>\n",
              "      <td>1</td>\n",
              "      <td>0</td>\n",
              "      <td>5</td>\n",
              "      <td>2</td>\n",
              "      <td>11</td>\n",
              "    </tr>\n",
              "    <tr>\n",
              "      <th>32685</th>\n",
              "      <td>1.20</td>\n",
              "      <td>44</td>\n",
              "      <td>30.43</td>\n",
              "      <td>101</td>\n",
              "      <td>83.59</td>\n",
              "      <td>3.37</td>\n",
              "      <td>12</td>\n",
              "      <td>1</td>\n",
              "      <td>0</td>\n",
              "      <td>0</td>\n",
              "      <td>2</td>\n",
              "      <td>11</td>\n",
              "    </tr>\n",
              "  </tbody>\n",
              "</table>\n",
              "<p>32515 rows × 12 columns</p>\n",
              "</div>"
            ],
            "text/plain": [
              "       Radiation  Temperature  Pressure  ...  Minute  Second  SunPerDayHours\n",
              "0           1.21           48     30.46  ...      55      26              12\n",
              "1           1.21           48     30.46  ...      50      23              12\n",
              "2           1.23           48     30.46  ...      45      26              12\n",
              "3           1.21           48     30.46  ...      40      21              12\n",
              "4           1.17           48     30.46  ...      35      24              12\n",
              "...          ...          ...       ...  ...     ...     ...             ...\n",
              "32681       1.22           44     30.43  ...      20       4              11\n",
              "32682       1.17           44     30.42  ...      15       1              11\n",
              "32683       1.20           44     30.42  ...      10       1              11\n",
              "32684       1.23           44     30.42  ...       5       2              11\n",
              "32685       1.20           44     30.43  ...       0       2              11\n",
              "\n",
              "[32515 rows x 12 columns]"
            ]
          },
          "metadata": {
            "tags": []
          },
          "execution_count": 27
        }
      ]
    },
    {
      "cell_type": "markdown",
      "metadata": {
        "id": "u6WlIDZOGyH5"
      },
      "source": [
        "# Spliting the data"
      ]
    },
    {
      "cell_type": "code",
      "metadata": {
        "id": "9yRowiVQqpxN"
      },
      "source": [
        "mydata1 = mydata.iloc[:,1:]\n",
        "labels = mydata.iloc[:,0]"
      ],
      "execution_count": 28,
      "outputs": []
    },
    {
      "cell_type": "code",
      "metadata": {
        "id": "LCTLJoLPqv9R"
      },
      "source": [
        "train_data, test_data, train_labels, test_labels = train_test_split(mydata1, labels, test_size = 0.2, random_state = 25)"
      ],
      "execution_count": 29,
      "outputs": []
    },
    {
      "cell_type": "markdown",
      "metadata": {
        "id": "TcjmQBh2sTqF"
      },
      "source": [
        "# Models"
      ]
    },
    {
      "cell_type": "code",
      "metadata": {
        "id": "WXHI2_M56A-M"
      },
      "source": [
        "mae_list = []\n",
        "mse_list = []\n",
        "r2_list = []\n",
        "var_list = []\n",
        "max_list = []"
      ],
      "execution_count": 30,
      "outputs": []
    },
    {
      "cell_type": "markdown",
      "metadata": {
        "id": "IrJpRdcZseC6"
      },
      "source": [
        "## Linear Regression"
      ]
    },
    {
      "cell_type": "code",
      "metadata": {
        "colab": {
          "base_uri": "https://localhost:8080/",
          "height": 805
        },
        "id": "agj-rOSYEj2_",
        "outputId": "d1bc1b24-65b1-4082-eae5-9da28525b195"
      },
      "source": [
        "model1 = LinearRegression()\r\n",
        "model1.fit(train_data, train_labels)\r\n",
        "\r\n",
        "columns_ = [ 'Temperature',\t'Pressure',\t'Humidity',\t'WindDirection(Degrees)',\t'Speed',\t'Month',\t'Day',\t'Hour',\t'Minute',\t'Second', 'SunPerDayHours']\r\n",
        "\r\n",
        "plt.figure(figsize=(20,10))\r\n",
        "plt.bar(columns_, model1.coef_)\r\n",
        "\r\n",
        "feature_importances = pd.DataFrame(model1.coef_,index = columns_,columns=['importance']).sort_values('importance',ascending=False)\r\n",
        "print(feature_importances)"
      ],
      "execution_count": 31,
      "outputs": [
        {
          "output_type": "stream",
          "text": [
            "                        importance\n",
            "Month                    49.695969\n",
            "Temperature              44.572736\n",
            "Speed                     4.620685\n",
            "Day                       4.299371\n",
            "Humidity                  0.554228\n",
            "Minute                    0.032777\n",
            "WindDirection(Degrees)   -0.231202\n",
            "Second                   -1.264069\n",
            "Hour                     -7.581172\n",
            "SunPerDayHours          -26.231275\n",
            "Pressure               -404.739539\n"
          ],
          "name": "stdout"
        },
        {
          "output_type": "display_data",
          "data": {
            "image/png": "[encoded data removed]",
            "text/plain": [
              "<Figure size 1440x720 with 1 Axes>"
            ]
          },
          "metadata": {
            "tags": [],
            "needs_background": "light"
          }
        }
      ]
    },
    {
      "cell_type": "code",
      "metadata": {
        "id": "CypQNvJ5q6Yh"
      },
      "source": [
        "Model1 = LinearRegression()\n",
        "Model1.fit(train_data, train_labels)\n",
        "Pred1 = Model1.predict(test_data)"
      ],
      "execution_count": 32,
      "outputs": []
    },
    {
      "cell_type": "code",
      "metadata": {
        "colab": {
          "base_uri": "https://localhost:8080/"
        },
        "id": "RCAixP_KsrIt",
        "outputId": "14c639f2-c5c5-4354-864c-c1f9e8d81afb"
      },
      "source": [
        "# Evaluation\n",
        "mae_list.append(mean_absolute_error(test_labels, Pred1))\n",
        "mse_list.append(mean_squared_error(test_labels, Pred1))\n",
        "r2_list.append(r2_score(test_labels, Pred1))\n",
        "var_list.append(explained_variance_score(test_labels, Pred1))\n",
        "max_list.append(max_error(test_labels, Pred1))\n",
        "\n",
        "print('MAE : ', mean_absolute_error(test_labels, Pred1))\n",
        "print('MSE : ', mean_squared_error(test_labels, Pred1))\n",
        "print('R^2 : ', r2_score(test_labels, Pred1))\n",
        "print('Var : ', explained_variance_score(test_labels, Pred1))\n",
        "print('Max : ', max_error(test_labels, Pred1))"
      ],
      "execution_count": 33,
      "outputs": [
        {
          "output_type": "stream",
          "text": [
            "MAE :  145.53663438816486\n",
            "MSE :  36765.7328385265\n",
            "R^2 :  0.6308764850087383\n",
            "Var :  0.6309326107714461\n",
            "Max :  1047.1185829606309\n"
          ],
          "name": "stdout"
        }
      ]
    },
    {
      "cell_type": "markdown",
      "metadata": {
        "id": "-vL0Q-zUtybR"
      },
      "source": [
        "## RandomForestRegressor"
      ]
    },
    {
      "cell_type": "code",
      "metadata": {
        "colab": {
          "base_uri": "https://localhost:8080/",
          "height": 805
        },
        "id": "Y073s22OiDOh",
        "outputId": "2cdac8ec-96fc-4fe2-f803-191166571991"
      },
      "source": [
        "model2 = RandomForestRegressor()\r\n",
        "model2.fit(train_data,train_labels)\r\n",
        "\r\n",
        "columns_ = [ 'Temperature',\t'Pressure',\t'Humidity',\t'WindDirection(Degrees)',\t'Speed',\t'Month',\t'Day',\t'Hour',\t'Minute',\t'Second', 'SunPerDayHours']\r\n",
        "\r\n",
        "plt.figure(figsize=(20,10))\r\n",
        "plt.bar(columns_, model2.feature_importances_)\r\n",
        "\r\n",
        "feature_importances = pd.DataFrame(model2.feature_importances_,index = columns_,columns=['importance']).sort_values('importance',ascending=False)\r\n",
        "print(feature_importances)"
      ],
      "execution_count": 34,
      "outputs": [
        {
          "output_type": "stream",
          "text": [
            "                        importance\n",
            "Temperature               0.565583\n",
            "Hour                      0.283937\n",
            "Humidity                  0.038736\n",
            "Day                       0.034635\n",
            "WindDirection(Degrees)    0.016243\n",
            "Pressure                  0.015735\n",
            "Minute                    0.014027\n",
            "Second                    0.010665\n",
            "Month                     0.009242\n",
            "Speed                     0.007434\n",
            "SunPerDayHours            0.003763\n"
          ],
          "name": "stdout"
        },
        {
          "output_type": "display_data",
          "data": {
            "image/png": "[encoded data removed]",
            "text/plain": [
              "<Figure size 1440x720 with 1 Axes>"
            ]
          },
          "metadata": {
            "tags": [],
            "needs_background": "light"
          }
        }
      ]
    },
    {
      "cell_type": "code",
      "metadata": {
        "id": "ets0fkMHnGTs"
      },
      "source": [
        "# param_grid={\n",
        "#             'max_depth': [None, 3, 7],\n",
        "#             'n_estimators': [100, 250, 500],\n",
        "#             'max_features': ['auto', 'sqrt', 'log2'],\n",
        "#             }\n",
        "\n",
        "# grid_search = GridSearchCV(\n",
        "#             estimator=RandomForestRegressor(),\n",
        "#             param_grid=param_grid,\n",
        "#             cv=5, scoring='neg_mean_squared_error', verbose=10, n_jobs=-1)\n",
        "\n",
        "# grid_result = grid_search.fit(train_data, train_labels)\n",
        "# results = grid_search.cv_results_\n",
        "# for mean_score, params in zip(results['mean_test_score'], results['params']):\n",
        "#     print(\"Mean score\", np.sqrt(-mean_score), \"with the following params\")\n",
        "#     print(params)\n",
        "\n",
        "# print(\"Best estim: \")\n",
        "# print(grid_search.best_estimator_)"
      ],
      "execution_count": 35,
      "outputs": []
    },
    {
      "cell_type": "code",
      "metadata": {
        "id": "xySI44Z0r3IW"
      },
      "source": [
        "Model2 = RandomForestRegressor(max_depth = None, n_estimators = 500, max_features='auto')\n",
        "Model2.fit(train_data, train_labels)\n",
        "Pred2 = Model2.predict(test_data)"
      ],
      "execution_count": 36,
      "outputs": []
    },
    {
      "cell_type": "code",
      "metadata": {
        "colab": {
          "base_uri": "https://localhost:8080/"
        },
        "id": "cNH1diGsr2_l",
        "outputId": "f3362a19-3bab-4de1-98c1-3b06973ed1a2"
      },
      "source": [
        "# Evaluation\n",
        "mae_list.append(mean_absolute_error(test_labels, Pred2))\n",
        "mse_list.append(mean_squared_error(test_labels, Pred2))\n",
        "r2_list.append(r2_score(test_labels, Pred2))\n",
        "var_list.append(explained_variance_score(test_labels, Pred2))\n",
        "max_list.append(max_error(test_labels, Pred2))\n",
        "\n",
        "print('MAE : ', mean_absolute_error(test_labels, Pred2 ))\n",
        "print('MSE : ', mean_squared_error(test_labels, Pred2 ))\n",
        "print('R^2 : ', r2_score(test_labels, Pred2 ))\n",
        "print('Var : ', explained_variance_score(test_labels, Pred2 ))\n",
        "print('Max : ', max_error(test_labels, Pred2 ))"
      ],
      "execution_count": 37,
      "outputs": [
        {
          "output_type": "stream",
          "text": [
            "MAE :  30.345296592230046\n",
            "MSE :  6509.2861614720105\n",
            "R^2 :  0.9346475535096984\n",
            "Var :  0.9346675264977196\n",
            "Max :  909.3956000000014\n"
          ],
          "name": "stdout"
        }
      ]
    },
    {
      "cell_type": "markdown",
      "metadata": {
        "id": "4791Afn4vGw0"
      },
      "source": [
        "## XgBoost"
      ]
    },
    {
      "cell_type": "code",
      "metadata": {
        "colab": {
          "base_uri": "https://localhost:8080/",
          "height": 823
        },
        "id": "mH2NXcHIUk68",
        "outputId": "10e37f08-387f-4f6f-fcae-340451f20ea7"
      },
      "source": [
        "model3 = XGBRegressor()\r\n",
        "model3.fit(train_data, train_labels)\r\n",
        "\r\n",
        "columns_ = [ 'Temperature',\t'Pressure',\t'Humidity',\t'WindDirection(Degrees)',\t'Speed',\t'Month',\t'Day',\t'Hour',\t'Minute',\t'Second', 'SunPerDayHours']\r\n",
        "\r\n",
        "plt.figure(figsize=(20,10))\r\n",
        "plt.bar(columns_, model3.feature_importances_)\r\n",
        "\r\n",
        "feature_importances = pd.DataFrame(model3.feature_importances_,index = columns_,columns=['importance']).sort_values('importance',ascending=False)\r\n",
        "print(feature_importances)\r\n"
      ],
      "execution_count": 38,
      "outputs": [
        {
          "output_type": "stream",
          "text": [
            "[18:15:10] WARNING: /workspace/src/objective/regression_obj.cu:152: reg:linear is now deprecated in favor of reg:squarederror.\n",
            "                        importance\n",
            "Temperature               0.605661\n",
            "Hour                      0.211503\n",
            "Humidity                  0.037184\n",
            "WindDirection(Degrees)    0.037130\n",
            "SunPerDayHours            0.034316\n",
            "Day                       0.025697\n",
            "Second                    0.015492\n",
            "Pressure                  0.012314\n",
            "Month                     0.008366\n",
            "Minute                    0.007135\n",
            "Speed                     0.005204\n"
          ],
          "name": "stdout"
        },
        {
          "output_type": "display_data",
          "data": {
            "image/png": "[encoded data removed]",
            "text/plain": [
              "<Figure size 1440x720 with 1 Axes>"
            ]
          },
          "metadata": {
            "tags": [],
            "needs_background": "light"
          }
        }
      ]
    },
    {
      "cell_type": "code",
      "metadata": {
        "id": "6bYBjRmryLzf"
      },
      "source": [
        "#param_grid = {\n",
        "#            'min_child_weight': [1, 4, 7],\n",
        "#            'gamma': [0, 0.5, 1],\n",
        "#            'subsample': [0.8, 1],\n",
        "#            'colsample_bytree':[0.8, 1],\n",
        "#            'max_depth': [3, 6, 9],\n",
        "#            }\n",
        "\n",
        "#grid_search = GridSearchCV(\n",
        "#            estimator=XGBRegressor(objective = 'reg:squarederror'),\n",
        "#            param_grid=param_grid,\n",
        "#            cv=5, scoring='neg_mean_squared_error', verbose=10, n_jobs=-1)\n",
        "\n",
        "#grid_result = grid_search.fit(train_data, train_labels)\n",
        "#results = grid_search.cv_results_\n",
        "#for mean_score, params in zip(results['mean_test_score'], results['params']):\n",
        "#    print(\"Mean score\", np.sqrt(-mean_score), \"with the following params\")\n",
        "#    print(params)\n",
        "\n",
        "#print(\"Best estim: \")\n",
        "#print(grid_search.best_estimator_)"
      ],
      "execution_count": 39,
      "outputs": []
    },
    {
      "cell_type": "code",
      "metadata": {
        "id": "SzWc5o8f6A-R"
      },
      "source": [
        "Model3 = XGBRegressor(objective = 'reg:squarederror',\n",
        "                      colsample_bytree=0.8, gamma=0,\n",
        "                      max_depth=9, min_child_weight=4,\n",
        "                      subsample=0.8)\n",
        "Model3.fit(train_data, train_labels)\n",
        "Pred3 = Model3.predict(test_data)"
      ],
      "execution_count": 40,
      "outputs": []
    },
    {
      "cell_type": "code",
      "metadata": {
        "id": "rG0XThmS2fxx",
        "colab": {
          "base_uri": "https://localhost:8080/"
        },
        "outputId": "f9abc851-c6d6-4bf1-9665-20e1d043cd4e"
      },
      "source": [
        "mae_list.append(mean_absolute_error(test_labels, Pred3))\n",
        "mse_list.append(mean_squared_error(test_labels, Pred3))\n",
        "r2_list.append(r2_score(test_labels, Pred3))\n",
        "var_list.append(explained_variance_score(test_labels, Pred3))\n",
        "max_list.append(max_error(test_labels, Pred3))\n",
        "\n",
        "\n",
        "print('MAE : ', mean_absolute_error(test_labels, Pred3 ))\n",
        "print('MSE : ', mean_squared_error(test_labels, Pred3 ))\n",
        "print('R^2 : ', r2_score(test_labels, Pred3 ))\n",
        "print('Var : ', explained_variance_score(test_labels, Pred3 ))\n",
        "print('Max : ', max_error(test_labels, Pred3 ))"
      ],
      "execution_count": 41,
      "outputs": [
        {
          "output_type": "stream",
          "text": [
            "MAE :  36.45372562953167\n",
            "MSE :  7011.396019976234\n",
            "R^2 :  0.9296064312044026\n",
            "Var :  0.9296161064797657\n",
            "Max :  1033.2645776367187\n"
          ],
          "name": "stdout"
        }
      ]
    },
    {
      "cell_type": "markdown",
      "metadata": {
        "id": "dJmrweIJ8f2S"
      },
      "source": [
        "## Decission Trees"
      ]
    },
    {
      "cell_type": "code",
      "metadata": {
        "colab": {
          "base_uri": "https://localhost:8080/",
          "height": 805
        },
        "id": "bhZjmEPhFB1k",
        "outputId": "8e8eccf2-15af-463c-8010-5e0b83623886"
      },
      "source": [
        "model4 = DecisionTreeRegressor()\r\n",
        "model4.fit(train_data, train_labels)\r\n",
        "\r\n",
        "columns_ = [ 'Temperature',\t'Pressure',\t'Humidity',\t'WindDirection(Degrees)',\t'Speed',\t'Month',\t'Day',\t'Hour',\t'Minute',\t'Second', 'SunPerDayHours']\r\n",
        "\r\n",
        "plt.figure(figsize=(20,10))\r\n",
        "plt.bar(columns_, model4.feature_importances_)\r\n",
        "\r\n",
        "feature_importances = pd.DataFrame(model4.feature_importances_,index = columns_,columns=['importance']).sort_values('importance',ascending=False)\r\n",
        "print(feature_importances)"
      ],
      "execution_count": 42,
      "outputs": [
        {
          "output_type": "stream",
          "text": [
            "                        importance\n",
            "Temperature               0.559622\n",
            "Hour                      0.290425\n",
            "Humidity                  0.041396\n",
            "Day                       0.034428\n",
            "Minute                    0.015925\n",
            "Pressure                  0.015487\n",
            "WindDirection(Degrees)    0.014536\n",
            "Second                    0.009435\n",
            "Month                     0.009284\n",
            "Speed                     0.007493\n",
            "SunPerDayHours            0.001969\n"
          ],
          "name": "stdout"
        },
        {
          "output_type": "display_data",
          "data": {
            "image/png": "[encoded data removed]",
            "text/plain": [
              "<Figure size 1440x720 with 1 Axes>"
            ]
          },
          "metadata": {
            "tags": [],
            "needs_background": "light"
          }
        }
      ]
    },
    {
      "cell_type": "code",
      "metadata": {
        "id": "zslTV22BheSy"
      },
      "source": [
        "# param_grid = {\n",
        "#     'max_depth': [None, 3, 5, 10], \n",
        "#     'max_features': ['auto', 'sqrt', 'log2'],\n",
        "#     'random_state': [None, 1, 2, 3, 4], \n",
        "#     'min_samples_split': [2, 3, 4]}    \n",
        "\n",
        "# grid_search = GridSearchCV(estimator = DecisionTreeRegressor(), param_grid=param_grid, cv=5,\n",
        "#                            scoring='neg_mean_squared_error', verbose=10, n_jobs=-1)\n",
        "# grid_search.fit(train_data, train_labels)\n",
        "\n",
        "# results = grid_search.cv_results_\n",
        "# for mean_score, params in zip(results['mean_test_score'], results['params']):\n",
        "#     print(\"Mean score\", np.sqrt(-mean_score), \"with the following params\",params)\n",
        "\n",
        "# print(\"Best estim: \")\n",
        "# grid_search.best_estimator_"
      ],
      "execution_count": 43,
      "outputs": []
    },
    {
      "cell_type": "code",
      "metadata": {
        "id": "5pnfrge3imCs"
      },
      "source": [
        "Model4 = DecisionTreeRegressor(max_depth=10, max_features='auto', min_samples_split=4, random_state=1)\n",
        "Model4.fit(train_data, train_labels)\n",
        "Pred4 = Model4.predict(test_data)"
      ],
      "execution_count": 44,
      "outputs": []
    },
    {
      "cell_type": "code",
      "metadata": {
        "id": "ThXRw47F6A-T",
        "colab": {
          "base_uri": "https://localhost:8080/"
        },
        "outputId": "99e22d97-dbac-4eb2-e54e-b3688f8a722b"
      },
      "source": [
        "mae_list.append(mean_absolute_error(test_labels, Pred4))\n",
        "mse_list.append(mean_squared_error(test_labels, Pred4))\n",
        "r2_list.append(r2_score(test_labels, Pred4))\n",
        "var_list.append(explained_variance_score(test_labels, Pred4))\n",
        "max_list.append(max_error(test_labels, Pred4))\n",
        "\n",
        "print('MAE : ', mean_absolute_error(test_labels, Pred4 ))\n",
        "print('MSE : ', mean_squared_error(test_labels, Pred4 ))\n",
        "print('R^2 : ', r2_score(test_labels, Pred4 ))\n",
        "print('Var : ', explained_variance_score(test_labels, Pred4 ))\n",
        "print('Max : ', max_error(test_labels, Pred4 ))"
      ],
      "execution_count": 45,
      "outputs": [
        {
          "output_type": "stream",
          "text": [
            "MAE :  42.841940617746474\n",
            "MSE :  10347.625717452076\n",
            "R^2 :  0.8961110881859694\n",
            "Var :  0.896182079743132\n",
            "Max :  922.72375\n"
          ],
          "name": "stdout"
        }
      ]
    },
    {
      "cell_type": "markdown",
      "metadata": {
        "id": "p2aY2VfzCL0v"
      },
      "source": [
        "# Model Evaluation"
      ]
    },
    {
      "cell_type": "code",
      "metadata": {
        "id": "A7QB523m6A-U",
        "colab": {
          "base_uri": "https://localhost:8080/"
        },
        "outputId": "0b026508-a3ad-412d-9fa7-e829bdb6417d"
      },
      "source": [
        "print('      LinearRegression      RandomForest        XGBoost         DecisionTrees')\n",
        "print('MAE',mae_list)\n",
        "print('MSE',mse_list)\n",
        "print('R2',r2_list)\n",
        "print('Var ', var_list)\n",
        "print('Max', max_list)"
      ],
      "execution_count": 46,
      "outputs": [
        {
          "output_type": "stream",
          "text": [
            "      LinearRegression      RandomForest        XGBoost         DecisionTrees\n",
            "MAE [145.53663438816486, 30.345296592230046, 36.45372562953167, 42.841940617746474]\n",
            "MSE [36765.7328385265, 6509.2861614720105, 7011.396019976234, 10347.625717452076]\n",
            "R2 [0.6308764850087383, 0.9346475535096984, 0.9296064312044026, 0.8961110881859694]\n",
            "Var  [0.6309326107714461, 0.9346675264977196, 0.9296161064797657, 0.896182079743132]\n",
            "Max [1047.1185829606309, 909.3956000000014, 1033.2645776367187, 922.72375]\n"
          ],
          "name": "stdout"
        }
      ]
    },
    {
      "cell_type": "code",
      "metadata": {
        "id": "coPSU2kh6A-U",
        "colab": {
          "base_uri": "https://localhost:8080/",
          "height": 0
        },
        "outputId": "c7acd18f-838a-4f71-98a4-a12131750bcd"
      },
      "source": [
        "plot_labels = [\"LinR\", \"RanFor\", \"XGB\", \"DecTr\"]\n",
        "from math import sqrt\n",
        "\n",
        "f, [ax1, ax2, ax3, ax4, ax5] = plt.subplots(nrows=1,ncols=5,figsize=(15,5))\n",
        "ax1.bar(plot_labels,mae_list,color='r')\n",
        "ax1.set_title(\"Mean Absolute Error\")\n",
        "ax2.bar(plot_labels,mse_list,color='g')\n",
        "ax2.set_title(\"Mean Squared Error\")\n",
        "ax3.bar(plot_labels,r2_list,color='y')\n",
        "ax3.set_title(\"R^2 Error\")\n",
        "ax4.bar(plot_labels,var_list,color='b')\n",
        "ax4.set_title(\"Var Error\")\n",
        "import operator\n"
      ],
      "execution_count": 47,
      "outputs": [
        {
          "output_type": "display_data",
          "data": {
            "image/png": "[encoded data removed]",
            "text/plain": [
              "<Figure size 1080x360 with 5 Axes>"
            ]
          },
          "metadata": {
            "tags": [],
            "needs_background": "light"
          }
        }
      ]
    },
    {
      "cell_type": "markdown",
      "metadata": {
        "id": "X85rLQ051i65"
      },
      "source": [
        "#  Further improvements discussed at the presentation"
      ]
    },
    {
      "cell_type": "markdown",
      "metadata": {
        "id": "YX29S7e40mqn"
      },
      "source": [
        "## Comparison between Normalized Data and Un-normalized Data \r\n",
        "\r\n",
        "After obtaining this result we decided to continue without normalizing the data."
      ]
    },
    {
      "cell_type": "code",
      "metadata": {
        "colab": {
          "base_uri": "https://localhost:8080/",
          "height": 0
        },
        "id": "Gg5pIOYKvhir",
        "outputId": "cd98b4d3-853b-4f1a-997c-6eafe1ee195e"
      },
      "source": [
        "# Without Normalization\r\n",
        "MAE_wn =  [145.53663438816486, 30.260374034873056, 36.45372562953167, 42.841940617746474]\r\n",
        "MSE_wn = [36765.7328385265, 6494.071158381085, 7011.396019976234, 10347.625717452076]\r\n",
        "R2_wn = [0.6308764850087383, 0.9348003103021767, 0.9296064312044026, 0.8961110881859694]\r\n",
        "Var_wn = [0.6309326107714461, 0.9348176119897434, 0.9296161064797657, 0.896182079743132]\r\n",
        "Max_wn = [1047.1185829606309, 881.2118000000008, 1033.2645776367187, 922.72375]\r\n",
        "\r\n",
        "# With Normalization\r\n",
        "MAE = [146.07357742508327, 31.151382492351622, 34.81606086339533, 43.89330016762526]\r\n",
        "MSE = [37102.33934259632, 6746.756748558653, 6788.594843960765, 10836.24382995925]\r\n",
        "R2 = [0.6253056145329912, 0.9318648926566667, 0.9314423721438481, 0.8905653984471072]\r\n",
        "Var = [0.6253289774456783, 0.9318789405433018, 0.9314424169220911, 0.8906053155263609]\r\n",
        "Max = [1046.4516532323953, 900.2392800000011, 1080.5108544921875, 1042.6072857142858]\r\n",
        "\r\n",
        "print('      LinearRegression      RandomForest        XGBoost         DecisionTrees')\r\n",
        "print('MAE_wn-MAE', list(map(operator.sub, MAE_wn, MAE)))\r\n",
        "print('MSE_wn-MSE', list(map(operator.sub, MSE_wn, MSE)))\r\n",
        "print('R2_wn-R2', list(map(operator.sub, R2_wn, R2)))\r\n",
        "print('Var_wn-Var', list(map(operator.sub, Var_wn, Var)))\r\n",
        "print('Max_wn-Max', list(map(operator.sub, Max_wn, Max)))\r\n",
        "ax5.set_title(\"Max Error\")\r\n",
        "plt.show()\r\n",
        "\r\n",
        "\r\n",
        "plot_labels = [\"LinR\", \"RanFor\", \"XGB\", \"DecTr\"]\r\n",
        "from math import sqrt\r\n",
        "\r\n",
        "f, [ax1, ax2, ax3, ax4, ax5] = plt.subplots(nrows=1,ncols=5,figsize=(15,5))\r\n",
        "ax1.bar(plot_labels,list(map(operator.sub, MAE_wn, MAE)),color='r')\r\n",
        "ax1.set_title(\"Mean Absolute Error\")\r\n",
        "ax2.bar(plot_labels,list(map(operator.sub, MSE_wn, MSE)),color='g')\r\n",
        "ax2.set_title(\"Mean Squared Error\")\r\n",
        "ax3.bar(plot_labels,list(map(operator.sub, R2_wn, R2)),color='y')\r\n",
        "ax3.set_title(\"R^2 Error\")\r\n",
        "ax4.bar(plot_labels,list(map(operator.sub, Var_wn, Var)),color='b')\r\n",
        "ax4.set_title(\"Var Error\")\r\n",
        "ax5.bar(plot_labels,list(map(operator.sub, Max_wn, Max)))\r\n",
        "ax5.set_title(\"Max Error\")\r\n",
        "plt.show()"
      ],
      "execution_count": 48,
      "outputs": [
        {
          "output_type": "stream",
          "text": [
            "      LinearRegression      RandomForest        XGBoost         DecisionTrees\n",
            "MAE_wn-MAE [-0.5369430369184158, -0.8910084574785664, 1.6376647661363393, -1.0513595498787893]\n",
            "MSE_wn-MSE [-336.60650406982313, -252.68559017756797, 222.80117601546954, -488.6181125071744]\n",
            "R2_wn-R2 [0.005570870475747114, 0.0029354176455099745, -0.0018359409394455017, 0.0055456897388621584]\n",
            "Var_wn-Var [0.005603633325767854, 0.0029386714464416652, -0.0018263104423253962, 0.005576764216771113]\n",
            "Max_wn-Max [0.6669297282355728, -19.02748000000031, -47.24627685546875, -119.88353571428581]\n"
          ],
          "name": "stdout"
        },
        {
          "output_type": "display_data",
          "data": {
            "image/png": "[encoded data removed]",
            "text/plain": [
              "<Figure size 1080x360 with 5 Axes>"
            ]
          },
          "metadata": {
            "tags": [],
            "needs_background": "light"
          }
        }
      ]
    },
    {
      "cell_type": "markdown",
      "metadata": {
        "id": "QsUjBmhW1ccT"
      },
      "source": [
        "\r\n",
        "##Decition Tree with prunning parameter"
      ]
    },
    {
      "cell_type": "code",
      "metadata": {
        "colab": {
          "base_uri": "https://localhost:8080/"
        },
        "id": "crEBUEVc142t",
        "outputId": "8918514d-076a-47d6-f948-bce284d849ac"
      },
      "source": [
        " #param_grid = {\r\n",
        "#     'max_depth': [None, 3, 5, 10], \r\n",
        "#     'max_features': ['auto', 'sqrt', 'log2'],\r\n",
        "#     'random_state': [None, 1, 2, 3, 4], \r\n",
        "#     'min_samples_split': [2, 3, 4],\r\n",
        "#     'ccp_alpha': ['non-negative', 'float', 0]}    \r\n",
        "# grid_search = GridSearchCV(estimator = DecisionTreeRegressor(), param_grid=param_grid, cv=5,\r\n",
        "#                            scoring='neg_mean_squared_error', verbose=10, n_jobs=-1)\r\n",
        "# grid_search.fit(train_data, train_labels)\r\n",
        "# results = grid_search.cv_results_\r\n",
        "# for mean_score, params in zip(results['mean_test_score'], results['params']):\r\n",
        "#     print(\"Mean score\", np.sqrt(-mean_score), \"with the following params\",params)\r\n",
        "\r\n",
        "# print(\"Best estim: \")\r\n",
        "# grid_search.best_estimator_"
      ],
      "execution_count": 49,
      "outputs": [
        {
          "output_type": "stream",
          "text": [
            "Fitting 5 folds for each of 540 candidates, totalling 2700 fits\n"
          ],
          "name": "stdout"
        },
        {
          "output_type": "stream",
          "text": [
            "[Parallel(n_jobs=-1)]: Using backend LokyBackend with 2 concurrent workers.\n",
            "[Parallel(n_jobs=-1)]: Done   1 tasks      | elapsed:    1.4s\n",
            "[Parallel(n_jobs=-1)]: Done   4 tasks      | elapsed:    1.5s\n",
            "[Parallel(n_jobs=-1)]: Done   9 tasks      | elapsed:    1.6s\n",
            "[Parallel(n_jobs=-1)]: Done  14 tasks      | elapsed:    1.6s\n",
            "[Parallel(n_jobs=-1)]: Batch computation too fast (0.1827s.) Setting batch_size=2.\n",
            "[Parallel(n_jobs=-1)]: Batch computation too fast (0.0632s.) Setting batch_size=4.\n",
            "[Parallel(n_jobs=-1)]: Done  24 tasks      | elapsed:    1.7s\n",
            "[Parallel(n_jobs=-1)]: Batch computation too fast (0.0581s.) Setting batch_size=8.\n",
            "[Parallel(n_jobs=-1)]: Batch computation too fast (0.1022s.) Setting batch_size=16.\n",
            "[Parallel(n_jobs=-1)]: Done  58 tasks      | elapsed:    1.9s\n",
            "[Parallel(n_jobs=-1)]: Batch computation too fast (0.1486s.) Setting batch_size=32.\n",
            "[Parallel(n_jobs=-1)]: Done 234 tasks      | elapsed:    2.4s\n",
            "[Parallel(n_jobs=-1)]: Done 522 tasks      | elapsed:    3.3s\n",
            "[Parallel(n_jobs=-1)]: Done 874 tasks      | elapsed:    4.2s\n",
            "[Parallel(n_jobs=-1)]: Done 1226 tasks      | elapsed:    5.1s\n",
            "[Parallel(n_jobs=-1)]: Done 1642 tasks      | elapsed:    6.2s\n",
            "[Parallel(n_jobs=-1)]: Batch computation too slow (2.0961s.) Setting batch_size=6.\n",
            "[Parallel(n_jobs=-1)]: Batch computation too slow (4.0659s.) Setting batch_size=1.\n",
            "[Parallel(n_jobs=-1)]: Done 1949 tasks      | elapsed:   20.5s\n",
            "[Parallel(n_jobs=-1)]: Done 1969 tasks      | elapsed:   21.4s\n",
            "[Parallel(n_jobs=-1)]: Done 1984 tasks      | elapsed:   22.3s\n",
            "[Parallel(n_jobs=-1)]: Done 2001 tasks      | elapsed:   23.3s\n",
            "[Parallel(n_jobs=-1)]: Done 2018 tasks      | elapsed:   24.2s\n",
            "[Parallel(n_jobs=-1)]: Batch computation too fast (0.1900s.) Setting batch_size=2.\n",
            "[Parallel(n_jobs=-1)]: Batch computation too fast (0.1800s.) Setting batch_size=4.\n",
            "[Parallel(n_jobs=-1)]: Done 2044 tasks      | elapsed:   25.2s\n",
            "[Parallel(n_jobs=-1)]: Done 2120 tasks      | elapsed:   27.0s\n",
            "[Parallel(n_jobs=-1)]: Done 2204 tasks      | elapsed:   28.2s\n",
            "[Parallel(n_jobs=-1)]: Done 2288 tasks      | elapsed:   30.5s\n",
            "[Parallel(n_jobs=-1)]: Done 2380 tasks      | elapsed:   33.0s\n",
            "[Parallel(n_jobs=-1)]: Done 2472 tasks      | elapsed:   34.6s\n",
            "[Parallel(n_jobs=-1)]: Done 2572 tasks      | elapsed:   41.0s\n",
            "[Parallel(n_jobs=-1)]: Done 2672 tasks      | elapsed:   43.8s\n",
            "[Parallel(n_jobs=-1)]: Done 2700 out of 2700 | elapsed:   44.6s finished\n"
          ],
          "name": "stderr"
        },
        {
          "output_type": "stream",
          "text": [
            "Mean score nan with the following params {'ccp_alpha': 'non-negative', 'max_depth': None, 'max_features': 'auto', 'min_samples_split': 2, 'random_state': None}\n",
            "Mean score nan with the following params {'ccp_alpha': 'non-negative', 'max_depth': None, 'max_features': 'auto', 'min_samples_split': 2, 'random_state': 1}\n",
            "Mean score nan with the following params {'ccp_alpha': 'non-negative', 'max_depth': None, 'max_features': 'auto', 'min_samples_split': 2, 'random_state': 2}\n",
            "Mean score nan with the following params {'ccp_alpha': 'non-negative', 'max_depth': None, 'max_features': 'auto', 'min_samples_split': 2, 'random_state': 3}\n",
            "Mean score nan with the following params {'ccp_alpha': 'non-negative', 'max_depth': None, 'max_features': 'auto', 'min_samples_split': 2, 'random_state': 4}\n",
            "Mean score nan with the following params {'ccp_alpha': 'non-negative', 'max_depth': None, 'max_features': 'auto', 'min_samples_split': 3, 'random_state': None}\n",
            "Mean score nan with the following params {'ccp_alpha': 'non-negative', 'max_depth': None, 'max_features': 'auto', 'min_samples_split': 3, 'random_state': 1}\n",
            "Mean score nan with the following params {'ccp_alpha': 'non-negative', 'max_depth': None, 'max_features': 'auto', 'min_samples_split': 3, 'random_state': 2}\n",
            "Mean score nan with the following params {'ccp_alpha': 'non-negative', 'max_depth': None, 'max_features': 'auto', 'min_samples_split': 3, 'random_state': 3}\n",
            "Mean score nan with the following params {'ccp_alpha': 'non-negative', 'max_depth': None, 'max_features': 'auto', 'min_samples_split': 3, 'random_state': 4}\n",
            "Mean score nan with the following params {'ccp_alpha': 'non-negative', 'max_depth': None, 'max_features': 'auto', 'min_samples_split': 4, 'random_state': None}\n",
            "Mean score nan with the following params {'ccp_alpha': 'non-negative', 'max_depth': None, 'max_features': 'auto', 'min_samples_split': 4, 'random_state': 1}\n",
            "Mean score nan with the following params {'ccp_alpha': 'non-negative', 'max_depth': None, 'max_features': 'auto', 'min_samples_split': 4, 'random_state': 2}\n",
            "Mean score nan with the following params {'ccp_alpha': 'non-negative', 'max_depth': None, 'max_features': 'auto', 'min_samples_split': 4, 'random_state': 3}\n",
            "Mean score nan with the following params {'ccp_alpha': 'non-negative', 'max_depth': None, 'max_features': 'auto', 'min_samples_split': 4, 'random_state': 4}\n",
            "Mean score nan with the following params {'ccp_alpha': 'non-negative', 'max_depth': None, 'max_features': 'sqrt', 'min_samples_split': 2, 'random_state': None}\n",
            "Mean score nan with the following params {'ccp_alpha': 'non-negative', 'max_depth': None, 'max_features': 'sqrt', 'min_samples_split': 2, 'random_state': 1}\n",
            "Mean score nan with the following params {'ccp_alpha': 'non-negative', 'max_depth': None, 'max_features': 'sqrt', 'min_samples_split': 2, 'random_state': 2}\n",
            "Mean score nan with the following params {'ccp_alpha': 'non-negative', 'max_depth': None, 'max_features': 'sqrt', 'min_samples_split': 2, 'random_state': 3}\n",
            "Mean score nan with the following params {'ccp_alpha': 'non-negative', 'max_depth': None, 'max_features': 'sqrt', 'min_samples_split': 2, 'random_state': 4}\n",
            "Mean score nan with the following params {'ccp_alpha': 'non-negative', 'max_depth': None, 'max_features': 'sqrt', 'min_samples_split': 3, 'random_state': None}\n",
            "Mean score nan with the following params {'ccp_alpha': 'non-negative', 'max_depth': None, 'max_features': 'sqrt', 'min_samples_split': 3, 'random_state': 1}\n",
            "Mean score nan with the following params {'ccp_alpha': 'non-negative', 'max_depth': None, 'max_features': 'sqrt', 'min_samples_split': 3, 'random_state': 2}\n",
            "Mean score nan with the following params {'ccp_alpha': 'non-negative', 'max_depth': None, 'max_features': 'sqrt', 'min_samples_split': 3, 'random_state': 3}\n",
            "Mean score nan with the following params {'ccp_alpha': 'non-negative', 'max_depth': None, 'max_features': 'sqrt', 'min_samples_split': 3, 'random_state': 4}\n",
            "Mean score nan with the following params {'ccp_alpha': 'non-negative', 'max_depth': None, 'max_features': 'sqrt', 'min_samples_split': 4, 'random_state': None}\n",
            "Mean score nan with the following params {'ccp_alpha': 'non-negative', 'max_depth': None, 'max_features': 'sqrt', 'min_samples_split': 4, 'random_state': 1}\n",
            "Mean score nan with the following params {'ccp_alpha': 'non-negative', 'max_depth': None, 'max_features': 'sqrt', 'min_samples_split': 4, 'random_state': 2}\n",
            "Mean score nan with the following params {'ccp_alpha': 'non-negative', 'max_depth': None, 'max_features': 'sqrt', 'min_samples_split': 4, 'random_state': 3}\n",
            "Mean score nan with the following params {'ccp_alpha': 'non-negative', 'max_depth': None, 'max_features': 'sqrt', 'min_samples_split': 4, 'random_state': 4}\n",
            "Mean score nan with the following params {'ccp_alpha': 'non-negative', 'max_depth': None, 'max_features': 'log2', 'min_samples_split': 2, 'random_state': None}\n",
            "Mean score nan with the following params {'ccp_alpha': 'non-negative', 'max_depth': None, 'max_features': 'log2', 'min_samples_split': 2, 'random_state': 1}\n",
            "Mean score nan with the following params {'ccp_alpha': 'non-negative', 'max_depth': None, 'max_features': 'log2', 'min_samples_split': 2, 'random_state': 2}\n",
            "Mean score nan with the following params {'ccp_alpha': 'non-negative', 'max_depth': None, 'max_features': 'log2', 'min_samples_split': 2, 'random_state': 3}\n",
            "Mean score nan with the following params {'ccp_alpha': 'non-negative', 'max_depth': None, 'max_features': 'log2', 'min_samples_split': 2, 'random_state': 4}\n",
            "Mean score nan with the following params {'ccp_alpha': 'non-negative', 'max_depth': None, 'max_features': 'log2', 'min_samples_split': 3, 'random_state': None}\n",
            "Mean score nan with the following params {'ccp_alpha': 'non-negative', 'max_depth': None, 'max_features': 'log2', 'min_samples_split': 3, 'random_state': 1}\n",
            "Mean score nan with the following params {'ccp_alpha': 'non-negative', 'max_depth': None, 'max_features': 'log2', 'min_samples_split': 3, 'random_state': 2}\n",
            "Mean score nan with the following params {'ccp_alpha': 'non-negative', 'max_depth': None, 'max_features': 'log2', 'min_samples_split': 3, 'random_state': 3}\n",
            "Mean score nan with the following params {'ccp_alpha': 'non-negative', 'max_depth': None, 'max_features': 'log2', 'min_samples_split': 3, 'random_state': 4}\n",
            "Mean score nan with the following params {'ccp_alpha': 'non-negative', 'max_depth': None, 'max_features': 'log2', 'min_samples_split': 4, 'random_state': None}\n",
            "Mean score nan with the following params {'ccp_alpha': 'non-negative', 'max_depth': None, 'max_features': 'log2', 'min_samples_split': 4, 'random_state': 1}\n",
            "Mean score nan with the following params {'ccp_alpha': 'non-negative', 'max_depth': None, 'max_features': 'log2', 'min_samples_split': 4, 'random_state': 2}\n",
            "Mean score nan with the following params {'ccp_alpha': 'non-negative', 'max_depth': None, 'max_features': 'log2', 'min_samples_split': 4, 'random_state': 3}\n",
            "Mean score nan with the following params {'ccp_alpha': 'non-negative', 'max_depth': None, 'max_features': 'log2', 'min_samples_split': 4, 'random_state': 4}\n",
            "Mean score nan with the following params {'ccp_alpha': 'non-negative', 'max_depth': 3, 'max_features': 'auto', 'min_samples_split': 2, 'random_state': None}\n",
            "Mean score nan with the following params {'ccp_alpha': 'non-negative', 'max_depth': 3, 'max_features': 'auto', 'min_samples_split': 2, 'random_state': 1}\n",
            "Mean score nan with the following params {'ccp_alpha': 'non-negative', 'max_depth': 3, 'max_features': 'auto', 'min_samples_split': 2, 'random_state': 2}\n",
            "Mean score nan with the following params {'ccp_alpha': 'non-negative', 'max_depth': 3, 'max_features': 'auto', 'min_samples_split': 2, 'random_state': 3}\n",
            "Mean score nan with the following params {'ccp_alpha': 'non-negative', 'max_depth': 3, 'max_features': 'auto', 'min_samples_split': 2, 'random_state': 4}\n",
            "Mean score nan with the following params {'ccp_alpha': 'non-negative', 'max_depth': 3, 'max_features': 'auto', 'min_samples_split': 3, 'random_state': None}\n",
            "Mean score nan with the following params {'ccp_alpha': 'non-negative', 'max_depth': 3, 'max_features': 'auto', 'min_samples_split': 3, 'random_state': 1}\n",
            "Mean score nan with the following params {'ccp_alpha': 'non-negative', 'max_depth': 3, 'max_features': 'auto', 'min_samples_split': 3, 'random_state': 2}\n",
            "Mean score nan with the following params {'ccp_alpha': 'non-negative', 'max_depth': 3, 'max_features': 'auto', 'min_samples_split': 3, 'random_state': 3}\n",
            "Mean score nan with the following params {'ccp_alpha': 'non-negative', 'max_depth': 3, 'max_features': 'auto', 'min_samples_split': 3, 'random_state': 4}\n",
            "Mean score nan with the following params {'ccp_alpha': 'non-negative', 'max_depth': 3, 'max_features': 'auto', 'min_samples_split': 4, 'random_state': None}\n",
            "Mean score nan with the following params {'ccp_alpha': 'non-negative', 'max_depth': 3, 'max_features': 'auto', 'min_samples_split': 4, 'random_state': 1}\n",
            "Mean score nan with the following params {'ccp_alpha': 'non-negative', 'max_depth': 3, 'max_features': 'auto', 'min_samples_split': 4, 'random_state': 2}\n",
            "Mean score nan with the following params {'ccp_alpha': 'non-negative', 'max_depth': 3, 'max_features': 'auto', 'min_samples_split': 4, 'random_state': 3}\n",
            "Mean score nan with the following params {'ccp_alpha': 'non-negative', 'max_depth': 3, 'max_features': 'auto', 'min_samples_split': 4, 'random_state': 4}\n",
            "Mean score nan with the following params {'ccp_alpha': 'non-negative', 'max_depth': 3, 'max_features': 'sqrt', 'min_samples_split': 2, 'random_state': None}\n",
            "Mean score nan with the following params {'ccp_alpha': 'non-negative', 'max_depth': 3, 'max_features': 'sqrt', 'min_samples_split': 2, 'random_state': 1}\n",
            "Mean score nan with the following params {'ccp_alpha': 'non-negative', 'max_depth': 3, 'max_features': 'sqrt', 'min_samples_split': 2, 'random_state': 2}\n",
            "Mean score nan with the following params {'ccp_alpha': 'non-negative', 'max_depth': 3, 'max_features': 'sqrt', 'min_samples_split': 2, 'random_state': 3}\n",
            "Mean score nan with the following params {'ccp_alpha': 'non-negative', 'max_depth': 3, 'max_features': 'sqrt', 'min_samples_split': 2, 'random_state': 4}\n",
            "Mean score nan with the following params {'ccp_alpha': 'non-negative', 'max_depth': 3, 'max_features': 'sqrt', 'min_samples_split': 3, 'random_state': None}\n",
            "Mean score nan with the following params {'ccp_alpha': 'non-negative', 'max_depth': 3, 'max_features': 'sqrt', 'min_samples_split': 3, 'random_state': 1}\n",
            "Mean score nan with the following params {'ccp_alpha': 'non-negative', 'max_depth': 3, 'max_features': 'sqrt', 'min_samples_split': 3, 'random_state': 2}\n",
            "Mean score nan with the following params {'ccp_alpha': 'non-negative', 'max_depth': 3, 'max_features': 'sqrt', 'min_samples_split': 3, 'random_state': 3}\n",
            "Mean score nan with the following params {'ccp_alpha': 'non-negative', 'max_depth': 3, 'max_features': 'sqrt', 'min_samples_split': 3, 'random_state': 4}\n",
            "Mean score nan with the following params {'ccp_alpha': 'non-negative', 'max_depth': 3, 'max_features': 'sqrt', 'min_samples_split': 4, 'random_state': None}\n",
            "Mean score nan with the following params {'ccp_alpha': 'non-negative', 'max_depth': 3, 'max_features': 'sqrt', 'min_samples_split': 4, 'random_state': 1}\n",
            "Mean score nan with the following params {'ccp_alpha': 'non-negative', 'max_depth': 3, 'max_features': 'sqrt', 'min_samples_split': 4, 'random_state': 2}\n",
            "Mean score nan with the following params {'ccp_alpha': 'non-negative', 'max_depth': 3, 'max_features': 'sqrt', 'min_samples_split': 4, 'random_state': 3}\n",
            "Mean score nan with the following params {'ccp_alpha': 'non-negative', 'max_depth': 3, 'max_features': 'sqrt', 'min_samples_split': 4, 'random_state': 4}\n",
            "Mean score nan with the following params {'ccp_alpha': 'non-negative', 'max_depth': 3, 'max_features': 'log2', 'min_samples_split': 2, 'random_state': None}\n",
            "Mean score nan with the following params {'ccp_alpha': 'non-negative', 'max_depth': 3, 'max_features': 'log2', 'min_samples_split': 2, 'random_state': 1}\n",
            "Mean score nan with the following params {'ccp_alpha': 'non-negative', 'max_depth': 3, 'max_features': 'log2', 'min_samples_split': 2, 'random_state': 2}\n",
            "Mean score nan with the following params {'ccp_alpha': 'non-negative', 'max_depth': 3, 'max_features': 'log2', 'min_samples_split': 2, 'random_state': 3}\n",
            "Mean score nan with the following params {'ccp_alpha': 'non-negative', 'max_depth': 3, 'max_features': 'log2', 'min_samples_split': 2, 'random_state': 4}\n",
            "Mean score nan with the following params {'ccp_alpha': 'non-negative', 'max_depth': 3, 'max_features': 'log2', 'min_samples_split': 3, 'random_state': None}\n",
            "Mean score nan with the following params {'ccp_alpha': 'non-negative', 'max_depth': 3, 'max_features': 'log2', 'min_samples_split': 3, 'random_state': 1}\n",
            "Mean score nan with the following params {'ccp_alpha': 'non-negative', 'max_depth': 3, 'max_features': 'log2', 'min_samples_split': 3, 'random_state': 2}\n",
            "Mean score nan with the following params {'ccp_alpha': 'non-negative', 'max_depth': 3, 'max_features': 'log2', 'min_samples_split': 3, 'random_state': 3}\n",
            "Mean score nan with the following params {'ccp_alpha': 'non-negative', 'max_depth': 3, 'max_features': 'log2', 'min_samples_split': 3, 'random_state': 4}\n",
            "Mean score nan with the following params {'ccp_alpha': 'non-negative', 'max_depth': 3, 'max_features': 'log2', 'min_samples_split': 4, 'random_state': None}\n",
            "Mean score nan with the following params {'ccp_alpha': 'non-negative', 'max_depth': 3, 'max_features': 'log2', 'min_samples_split': 4, 'random_state': 1}\n",
            "Mean score nan with the following params {'ccp_alpha': 'non-negative', 'max_depth': 3, 'max_features': 'log2', 'min_samples_split': 4, 'random_state': 2}\n",
            "Mean score nan with the following params {'ccp_alpha': 'non-negative', 'max_depth': 3, 'max_features': 'log2', 'min_samples_split': 4, 'random_state': 3}\n",
            "Mean score nan with the following params {'ccp_alpha': 'non-negative', 'max_depth': 3, 'max_features': 'log2', 'min_samples_split': 4, 'random_state': 4}\n",
            "Mean score nan with the following params {'ccp_alpha': 'non-negative', 'max_depth': 5, 'max_features': 'auto', 'min_samples_split': 2, 'random_state': None}\n",
            "Mean score nan with the following params {'ccp_alpha': 'non-negative', 'max_depth': 5, 'max_features': 'auto', 'min_samples_split': 2, 'random_state': 1}\n",
            "Mean score nan with the following params {'ccp_alpha': 'non-negative', 'max_depth': 5, 'max_features': 'auto', 'min_samples_split': 2, 'random_state': 2}\n",
            "Mean score nan with the following params {'ccp_alpha': 'non-negative', 'max_depth': 5, 'max_features': 'auto', 'min_samples_split': 2, 'random_state': 3}\n",
            "Mean score nan with the following params {'ccp_alpha': 'non-negative', 'max_depth': 5, 'max_features': 'auto', 'min_samples_split': 2, 'random_state': 4}\n",
            "Mean score nan with the following params {'ccp_alpha': 'non-negative', 'max_depth': 5, 'max_features': 'auto', 'min_samples_split': 3, 'random_state': None}\n",
            "Mean score nan with the following params {'ccp_alpha': 'non-negative', 'max_depth': 5, 'max_features': 'auto', 'min_samples_split': 3, 'random_state': 1}\n",
            "Mean score nan with the following params {'ccp_alpha': 'non-negative', 'max_depth': 5, 'max_features': 'auto', 'min_samples_split': 3, 'random_state': 2}\n",
            "Mean score nan with the following params {'ccp_alpha': 'non-negative', 'max_depth': 5, 'max_features': 'auto', 'min_samples_split': 3, 'random_state': 3}\n",
            "Mean score nan with the following params {'ccp_alpha': 'non-negative', 'max_depth': 5, 'max_features': 'auto', 'min_samples_split': 3, 'random_state': 4}\n",
            "Mean score nan with the following params {'ccp_alpha': 'non-negative', 'max_depth': 5, 'max_features': 'auto', 'min_samples_split': 4, 'random_state': None}\n",
            "Mean score nan with the following params {'ccp_alpha': 'non-negative', 'max_depth': 5, 'max_features': 'auto', 'min_samples_split': 4, 'random_state': 1}\n",
            "Mean score nan with the following params {'ccp_alpha': 'non-negative', 'max_depth': 5, 'max_features': 'auto', 'min_samples_split': 4, 'random_state': 2}\n",
            "Mean score nan with the following params {'ccp_alpha': 'non-negative', 'max_depth': 5, 'max_features': 'auto', 'min_samples_split': 4, 'random_state': 3}\n",
            "Mean score nan with the following params {'ccp_alpha': 'non-negative', 'max_depth': 5, 'max_features': 'auto', 'min_samples_split': 4, 'random_state': 4}\n",
            "Mean score nan with the following params {'ccp_alpha': 'non-negative', 'max_depth': 5, 'max_features': 'sqrt', 'min_samples_split': 2, 'random_state': None}\n",
            "Mean score nan with the following params {'ccp_alpha': 'non-negative', 'max_depth': 5, 'max_features': 'sqrt', 'min_samples_split': 2, 'random_state': 1}\n",
            "Mean score nan with the following params {'ccp_alpha': 'non-negative', 'max_depth': 5, 'max_features': 'sqrt', 'min_samples_split': 2, 'random_state': 2}\n",
            "Mean score nan with the following params {'ccp_alpha': 'non-negative', 'max_depth': 5, 'max_features': 'sqrt', 'min_samples_split': 2, 'random_state': 3}\n",
            "Mean score nan with the following params {'ccp_alpha': 'non-negative', 'max_depth': 5, 'max_features': 'sqrt', 'min_samples_split': 2, 'random_state': 4}\n",
            "Mean score nan with the following params {'ccp_alpha': 'non-negative', 'max_depth': 5, 'max_features': 'sqrt', 'min_samples_split': 3, 'random_state': None}\n",
            "Mean score nan with the following params {'ccp_alpha': 'non-negative', 'max_depth': 5, 'max_features': 'sqrt', 'min_samples_split': 3, 'random_state': 1}\n",
            "Mean score nan with the following params {'ccp_alpha': 'non-negative', 'max_depth': 5, 'max_features': 'sqrt', 'min_samples_split': 3, 'random_state': 2}\n",
            "Mean score nan with the following params {'ccp_alpha': 'non-negative', 'max_depth': 5, 'max_features': 'sqrt', 'min_samples_split': 3, 'random_state': 3}\n",
            "Mean score nan with the following params {'ccp_alpha': 'non-negative', 'max_depth': 5, 'max_features': 'sqrt', 'min_samples_split': 3, 'random_state': 4}\n",
            "Mean score nan with the following params {'ccp_alpha': 'non-negative', 'max_depth': 5, 'max_features': 'sqrt', 'min_samples_split': 4, 'random_state': None}\n",
            "Mean score nan with the following params {'ccp_alpha': 'non-negative', 'max_depth': 5, 'max_features': 'sqrt', 'min_samples_split': 4, 'random_state': 1}\n",
            "Mean score nan with the following params {'ccp_alpha': 'non-negative', 'max_depth': 5, 'max_features': 'sqrt', 'min_samples_split': 4, 'random_state': 2}\n",
            "Mean score nan with the following params {'ccp_alpha': 'non-negative', 'max_depth': 5, 'max_features': 'sqrt', 'min_samples_split': 4, 'random_state': 3}\n",
            "Mean score nan with the following params {'ccp_alpha': 'non-negative', 'max_depth': 5, 'max_features': 'sqrt', 'min_samples_split': 4, 'random_state': 4}\n",
            "Mean score nan with the following params {'ccp_alpha': 'non-negative', 'max_depth': 5, 'max_features': 'log2', 'min_samples_split': 2, 'random_state': None}\n",
            "Mean score nan with the following params {'ccp_alpha': 'non-negative', 'max_depth': 5, 'max_features': 'log2', 'min_samples_split': 2, 'random_state': 1}\n",
            "Mean score nan with the following params {'ccp_alpha': 'non-negative', 'max_depth': 5, 'max_features': 'log2', 'min_samples_split': 2, 'random_state': 2}\n",
            "Mean score nan with the following params {'ccp_alpha': 'non-negative', 'max_depth': 5, 'max_features': 'log2', 'min_samples_split': 2, 'random_state': 3}\n",
            "Mean score nan with the following params {'ccp_alpha': 'non-negative', 'max_depth': 5, 'max_features': 'log2', 'min_samples_split': 2, 'random_state': 4}\n",
            "Mean score nan with the following params {'ccp_alpha': 'non-negative', 'max_depth': 5, 'max_features': 'log2', 'min_samples_split': 3, 'random_state': None}\n",
            "Mean score nan with the following params {'ccp_alpha': 'non-negative', 'max_depth': 5, 'max_features': 'log2', 'min_samples_split': 3, 'random_state': 1}\n",
            "Mean score nan with the following params {'ccp_alpha': 'non-negative', 'max_depth': 5, 'max_features': 'log2', 'min_samples_split': 3, 'random_state': 2}\n",
            "Mean score nan with the following params {'ccp_alpha': 'non-negative', 'max_depth': 5, 'max_features': 'log2', 'min_samples_split': 3, 'random_state': 3}\n",
            "Mean score nan with the following params {'ccp_alpha': 'non-negative', 'max_depth': 5, 'max_features': 'log2', 'min_samples_split': 3, 'random_state': 4}\n",
            "Mean score nan with the following params {'ccp_alpha': 'non-negative', 'max_depth': 5, 'max_features': 'log2', 'min_samples_split': 4, 'random_state': None}\n",
            "Mean score nan with the following params {'ccp_alpha': 'non-negative', 'max_depth': 5, 'max_features': 'log2', 'min_samples_split': 4, 'random_state': 1}\n",
            "Mean score nan with the following params {'ccp_alpha': 'non-negative', 'max_depth': 5, 'max_features': 'log2', 'min_samples_split': 4, 'random_state': 2}\n",
            "Mean score nan with the following params {'ccp_alpha': 'non-negative', 'max_depth': 5, 'max_features': 'log2', 'min_samples_split': 4, 'random_state': 3}\n",
            "Mean score nan with the following params {'ccp_alpha': 'non-negative', 'max_depth': 5, 'max_features': 'log2', 'min_samples_split': 4, 'random_state': 4}\n",
            "Mean score nan with the following params {'ccp_alpha': 'non-negative', 'max_depth': 10, 'max_features': 'auto', 'min_samples_split': 2, 'random_state': None}\n",
            "Mean score nan with the following params {'ccp_alpha': 'non-negative', 'max_depth': 10, 'max_features': 'auto', 'min_samples_split': 2, 'random_state': 1}\n",
            "Mean score nan with the following params {'ccp_alpha': 'non-negative', 'max_depth': 10, 'max_features': 'auto', 'min_samples_split': 2, 'random_state': 2}\n",
            "Mean score nan with the following params {'ccp_alpha': 'non-negative', 'max_depth': 10, 'max_features': 'auto', 'min_samples_split': 2, 'random_state': 3}\n",
            "Mean score nan with the following params {'ccp_alpha': 'non-negative', 'max_depth': 10, 'max_features': 'auto', 'min_samples_split': 2, 'random_state': 4}\n",
            "Mean score nan with the following params {'ccp_alpha': 'non-negative', 'max_depth': 10, 'max_features': 'auto', 'min_samples_split': 3, 'random_state': None}\n",
            "Mean score nan with the following params {'ccp_alpha': 'non-negative', 'max_depth': 10, 'max_features': 'auto', 'min_samples_split': 3, 'random_state': 1}\n",
            "Mean score nan with the following params {'ccp_alpha': 'non-negative', 'max_depth': 10, 'max_features': 'auto', 'min_samples_split': 3, 'random_state': 2}\n",
            "Mean score nan with the following params {'ccp_alpha': 'non-negative', 'max_depth': 10, 'max_features': 'auto', 'min_samples_split': 3, 'random_state': 3}\n",
            "Mean score nan with the following params {'ccp_alpha': 'non-negative', 'max_depth': 10, 'max_features': 'auto', 'min_samples_split': 3, 'random_state': 4}\n",
            "Mean score nan with the following params {'ccp_alpha': 'non-negative', 'max_depth': 10, 'max_features': 'auto', 'min_samples_split': 4, 'random_state': None}\n",
            "Mean score nan with the following params {'ccp_alpha': 'non-negative', 'max_depth': 10, 'max_features': 'auto', 'min_samples_split': 4, 'random_state': 1}\n",
            "Mean score nan with the following params {'ccp_alpha': 'non-negative', 'max_depth': 10, 'max_features': 'auto', 'min_samples_split': 4, 'random_state': 2}\n",
            "Mean score nan with the following params {'ccp_alpha': 'non-negative', 'max_depth': 10, 'max_features': 'auto', 'min_samples_split': 4, 'random_state': 3}\n",
            "Mean score nan with the following params {'ccp_alpha': 'non-negative', 'max_depth': 10, 'max_features': 'auto', 'min_samples_split': 4, 'random_state': 4}\n",
            "Mean score nan with the following params {'ccp_alpha': 'non-negative', 'max_depth': 10, 'max_features': 'sqrt', 'min_samples_split': 2, 'random_state': None}\n",
            "Mean score nan with the following params {'ccp_alpha': 'non-negative', 'max_depth': 10, 'max_features': 'sqrt', 'min_samples_split': 2, 'random_state': 1}\n",
            "Mean score nan with the following params {'ccp_alpha': 'non-negative', 'max_depth': 10, 'max_features': 'sqrt', 'min_samples_split': 2, 'random_state': 2}\n",
            "Mean score nan with the following params {'ccp_alpha': 'non-negative', 'max_depth': 10, 'max_features': 'sqrt', 'min_samples_split': 2, 'random_state': 3}\n",
            "Mean score nan with the following params {'ccp_alpha': 'non-negative', 'max_depth': 10, 'max_features': 'sqrt', 'min_samples_split': 2, 'random_state': 4}\n",
            "Mean score nan with the following params {'ccp_alpha': 'non-negative', 'max_depth': 10, 'max_features': 'sqrt', 'min_samples_split': 3, 'random_state': None}\n",
            "Mean score nan with the following params {'ccp_alpha': 'non-negative', 'max_depth': 10, 'max_features': 'sqrt', 'min_samples_split': 3, 'random_state': 1}\n",
            "Mean score nan with the following params {'ccp_alpha': 'non-negative', 'max_depth': 10, 'max_features': 'sqrt', 'min_samples_split': 3, 'random_state': 2}\n",
            "Mean score nan with the following params {'ccp_alpha': 'non-negative', 'max_depth': 10, 'max_features': 'sqrt', 'min_samples_split': 3, 'random_state': 3}\n",
            "Mean score nan with the following params {'ccp_alpha': 'non-negative', 'max_depth': 10, 'max_features': 'sqrt', 'min_samples_split': 3, 'random_state': 4}\n",
            "Mean score nan with the following params {'ccp_alpha': 'non-negative', 'max_depth': 10, 'max_features': 'sqrt', 'min_samples_split': 4, 'random_state': None}\n",
            "Mean score nan with the following params {'ccp_alpha': 'non-negative', 'max_depth': 10, 'max_features': 'sqrt', 'min_samples_split': 4, 'random_state': 1}\n",
            "Mean score nan with the following params {'ccp_alpha': 'non-negative', 'max_depth': 10, 'max_features': 'sqrt', 'min_samples_split': 4, 'random_state': 2}\n",
            "Mean score nan with the following params {'ccp_alpha': 'non-negative', 'max_depth': 10, 'max_features': 'sqrt', 'min_samples_split': 4, 'random_state': 3}\n",
            "Mean score nan with the following params {'ccp_alpha': 'non-negative', 'max_depth': 10, 'max_features': 'sqrt', 'min_samples_split': 4, 'random_state': 4}\n",
            "Mean score nan with the following params {'ccp_alpha': 'non-negative', 'max_depth': 10, 'max_features': 'log2', 'min_samples_split': 2, 'random_state': None}\n",
            "Mean score nan with the following params {'ccp_alpha': 'non-negative', 'max_depth': 10, 'max_features': 'log2', 'min_samples_split': 2, 'random_state': 1}\n",
            "Mean score nan with the following params {'ccp_alpha': 'non-negative', 'max_depth': 10, 'max_features': 'log2', 'min_samples_split': 2, 'random_state': 2}\n",
            "Mean score nan with the following params {'ccp_alpha': 'non-negative', 'max_depth': 10, 'max_features': 'log2', 'min_samples_split': 2, 'random_state': 3}\n",
            "Mean score nan with the following params {'ccp_alpha': 'non-negative', 'max_depth': 10, 'max_features': 'log2', 'min_samples_split': 2, 'random_state': 4}\n",
            "Mean score nan with the following params {'ccp_alpha': 'non-negative', 'max_depth': 10, 'max_features': 'log2', 'min_samples_split': 3, 'random_state': None}\n",
            "Mean score nan with the following params {'ccp_alpha': 'non-negative', 'max_depth': 10, 'max_features': 'log2', 'min_samples_split': 3, 'random_state': 1}\n",
            "Mean score nan with the following params {'ccp_alpha': 'non-negative', 'max_depth': 10, 'max_features': 'log2', 'min_samples_split': 3, 'random_state': 2}\n",
            "Mean score nan with the following params {'ccp_alpha': 'non-negative', 'max_depth': 10, 'max_features': 'log2', 'min_samples_split': 3, 'random_state': 3}\n",
            "Mean score nan with the following params {'ccp_alpha': 'non-negative', 'max_depth': 10, 'max_features': 'log2', 'min_samples_split': 3, 'random_state': 4}\n",
            "Mean score nan with the following params {'ccp_alpha': 'non-negative', 'max_depth': 10, 'max_features': 'log2', 'min_samples_split': 4, 'random_state': None}\n",
            "Mean score nan with the following params {'ccp_alpha': 'non-negative', 'max_depth': 10, 'max_features': 'log2', 'min_samples_split': 4, 'random_state': 1}\n",
            "Mean score nan with the following params {'ccp_alpha': 'non-negative', 'max_depth': 10, 'max_features': 'log2', 'min_samples_split': 4, 'random_state': 2}\n",
            "Mean score nan with the following params {'ccp_alpha': 'non-negative', 'max_depth': 10, 'max_features': 'log2', 'min_samples_split': 4, 'random_state': 3}\n",
            "Mean score nan with the following params {'ccp_alpha': 'non-negative', 'max_depth': 10, 'max_features': 'log2', 'min_samples_split': 4, 'random_state': 4}\n",
            "Mean score nan with the following params {'ccp_alpha': 'float', 'max_depth': None, 'max_features': 'auto', 'min_samples_split': 2, 'random_state': None}\n",
            "Mean score nan with the following params {'ccp_alpha': 'float', 'max_depth': None, 'max_features': 'auto', 'min_samples_split': 2, 'random_state': 1}\n",
            "Mean score nan with the following params {'ccp_alpha': 'float', 'max_depth': None, 'max_features': 'auto', 'min_samples_split': 2, 'random_state': 2}\n",
            "Mean score nan with the following params {'ccp_alpha': 'float', 'max_depth': None, 'max_features': 'auto', 'min_samples_split': 2, 'random_state': 3}\n",
            "Mean score nan with the following params {'ccp_alpha': 'float', 'max_depth': None, 'max_features': 'auto', 'min_samples_split': 2, 'random_state': 4}\n",
            "Mean score nan with the following params {'ccp_alpha': 'float', 'max_depth': None, 'max_features': 'auto', 'min_samples_split': 3, 'random_state': None}\n",
            "Mean score nan with the following params {'ccp_alpha': 'float', 'max_depth': None, 'max_features': 'auto', 'min_samples_split': 3, 'random_state': 1}\n",
            "Mean score nan with the following params {'ccp_alpha': 'float', 'max_depth': None, 'max_features': 'auto', 'min_samples_split': 3, 'random_state': 2}\n",
            "Mean score nan with the following params {'ccp_alpha': 'float', 'max_depth': None, 'max_features': 'auto', 'min_samples_split': 3, 'random_state': 3}\n",
            "Mean score nan with the following params {'ccp_alpha': 'float', 'max_depth': None, 'max_features': 'auto', 'min_samples_split': 3, 'random_state': 4}\n",
            "Mean score nan with the following params {'ccp_alpha': 'float', 'max_depth': None, 'max_features': 'auto', 'min_samples_split': 4, 'random_state': None}\n",
            "Mean score nan with the following params {'ccp_alpha': 'float', 'max_depth': None, 'max_features': 'auto', 'min_samples_split': 4, 'random_state': 1}\n",
            "Mean score nan with the following params {'ccp_alpha': 'float', 'max_depth': None, 'max_features': 'auto', 'min_samples_split': 4, 'random_state': 2}\n",
            "Mean score nan with the following params {'ccp_alpha': 'float', 'max_depth': None, 'max_features': 'auto', 'min_samples_split': 4, 'random_state': 3}\n",
            "Mean score nan with the following params {'ccp_alpha': 'float', 'max_depth': None, 'max_features': 'auto', 'min_samples_split': 4, 'random_state': 4}\n",
            "Mean score nan with the following params {'ccp_alpha': 'float', 'max_depth': None, 'max_features': 'sqrt', 'min_samples_split': 2, 'random_state': None}\n",
            "Mean score nan with the following params {'ccp_alpha': 'float', 'max_depth': None, 'max_features': 'sqrt', 'min_samples_split': 2, 'random_state': 1}\n",
            "Mean score nan with the following params {'ccp_alpha': 'float', 'max_depth': None, 'max_features': 'sqrt', 'min_samples_split': 2, 'random_state': 2}\n",
            "Mean score nan with the following params {'ccp_alpha': 'float', 'max_depth': None, 'max_features': 'sqrt', 'min_samples_split': 2, 'random_state': 3}\n",
            "Mean score nan with the following params {'ccp_alpha': 'float', 'max_depth': None, 'max_features': 'sqrt', 'min_samples_split': 2, 'random_state': 4}\n",
            "Mean score nan with the following params {'ccp_alpha': 'float', 'max_depth': None, 'max_features': 'sqrt', 'min_samples_split': 3, 'random_state': None}\n",
            "Mean score nan with the following params {'ccp_alpha': 'float', 'max_depth': None, 'max_features': 'sqrt', 'min_samples_split': 3, 'random_state': 1}\n",
            "Mean score nan with the following params {'ccp_alpha': 'float', 'max_depth': None, 'max_features': 'sqrt', 'min_samples_split': 3, 'random_state': 2}\n",
            "Mean score nan with the following params {'ccp_alpha': 'float', 'max_depth': None, 'max_features': 'sqrt', 'min_samples_split': 3, 'random_state': 3}\n",
            "Mean score nan with the following params {'ccp_alpha': 'float', 'max_depth': None, 'max_features': 'sqrt', 'min_samples_split': 3, 'random_state': 4}\n",
            "Mean score nan with the following params {'ccp_alpha': 'float', 'max_depth': None, 'max_features': 'sqrt', 'min_samples_split': 4, 'random_state': None}\n",
            "Mean score nan with the following params {'ccp_alpha': 'float', 'max_depth': None, 'max_features': 'sqrt', 'min_samples_split': 4, 'random_state': 1}\n",
            "Mean score nan with the following params {'ccp_alpha': 'float', 'max_depth': None, 'max_features': 'sqrt', 'min_samples_split': 4, 'random_state': 2}\n",
            "Mean score nan with the following params {'ccp_alpha': 'float', 'max_depth': None, 'max_features': 'sqrt', 'min_samples_split': 4, 'random_state': 3}\n",
            "Mean score nan with the following params {'ccp_alpha': 'float', 'max_depth': None, 'max_features': 'sqrt', 'min_samples_split': 4, 'random_state': 4}\n",
            "Mean score nan with the following params {'ccp_alpha': 'float', 'max_depth': None, 'max_features': 'log2', 'min_samples_split': 2, 'random_state': None}\n",
            "Mean score nan with the following params {'ccp_alpha': 'float', 'max_depth': None, 'max_features': 'log2', 'min_samples_split': 2, 'random_state': 1}\n",
            "Mean score nan with the following params {'ccp_alpha': 'float', 'max_depth': None, 'max_features': 'log2', 'min_samples_split': 2, 'random_state': 2}\n",
            "Mean score nan with the following params {'ccp_alpha': 'float', 'max_depth': None, 'max_features': 'log2', 'min_samples_split': 2, 'random_state': 3}\n",
            "Mean score nan with the following params {'ccp_alpha': 'float', 'max_depth': None, 'max_features': 'log2', 'min_samples_split': 2, 'random_state': 4}\n",
            "Mean score nan with the following params {'ccp_alpha': 'float', 'max_depth': None, 'max_features': 'log2', 'min_samples_split': 3, 'random_state': None}\n",
            "Mean score nan with the following params {'ccp_alpha': 'float', 'max_depth': None, 'max_features': 'log2', 'min_samples_split': 3, 'random_state': 1}\n",
            "Mean score nan with the following params {'ccp_alpha': 'float', 'max_depth': None, 'max_features': 'log2', 'min_samples_split': 3, 'random_state': 2}\n",
            "Mean score nan with the following params {'ccp_alpha': 'float', 'max_depth': None, 'max_features': 'log2', 'min_samples_split': 3, 'random_state': 3}\n",
            "Mean score nan with the following params {'ccp_alpha': 'float', 'max_depth': None, 'max_features': 'log2', 'min_samples_split': 3, 'random_state': 4}\n",
            "Mean score nan with the following params {'ccp_alpha': 'float', 'max_depth': None, 'max_features': 'log2', 'min_samples_split': 4, 'random_state': None}\n",
            "Mean score nan with the following params {'ccp_alpha': 'float', 'max_depth': None, 'max_features': 'log2', 'min_samples_split': 4, 'random_state': 1}\n",
            "Mean score nan with the following params {'ccp_alpha': 'float', 'max_depth': None, 'max_features': 'log2', 'min_samples_split': 4, 'random_state': 2}\n",
            "Mean score nan with the following params {'ccp_alpha': 'float', 'max_depth': None, 'max_features': 'log2', 'min_samples_split': 4, 'random_state': 3}\n",
            "Mean score nan with the following params {'ccp_alpha': 'float', 'max_depth': None, 'max_features': 'log2', 'min_samples_split': 4, 'random_state': 4}\n",
            "Mean score nan with the following params {'ccp_alpha': 'float', 'max_depth': 3, 'max_features': 'auto', 'min_samples_split': 2, 'random_state': None}\n",
            "Mean score nan with the following params {'ccp_alpha': 'float', 'max_depth': 3, 'max_features': 'auto', 'min_samples_split': 2, 'random_state': 1}\n",
            "Mean score nan with the following params {'ccp_alpha': 'float', 'max_depth': 3, 'max_features': 'auto', 'min_samples_split': 2, 'random_state': 2}\n",
            "Mean score nan with the following params {'ccp_alpha': 'float', 'max_depth': 3, 'max_features': 'auto', 'min_samples_split': 2, 'random_state': 3}\n",
            "Mean score nan with the following params {'ccp_alpha': 'float', 'max_depth': 3, 'max_features': 'auto', 'min_samples_split': 2, 'random_state': 4}\n",
            "Mean score nan with the following params {'ccp_alpha': 'float', 'max_depth': 3, 'max_features': 'auto', 'min_samples_split': 3, 'random_state': None}\n",
            "Mean score nan with the following params {'ccp_alpha': 'float', 'max_depth': 3, 'max_features': 'auto', 'min_samples_split': 3, 'random_state': 1}\n",
            "Mean score nan with the following params {'ccp_alpha': 'float', 'max_depth': 3, 'max_features': 'auto', 'min_samples_split': 3, 'random_state': 2}\n",
            "Mean score nan with the following params {'ccp_alpha': 'float', 'max_depth': 3, 'max_features': 'auto', 'min_samples_split': 3, 'random_state': 3}\n",
            "Mean score nan with the following params {'ccp_alpha': 'float', 'max_depth': 3, 'max_features': 'auto', 'min_samples_split': 3, 'random_state': 4}\n",
            "Mean score nan with the following params {'ccp_alpha': 'float', 'max_depth': 3, 'max_features': 'auto', 'min_samples_split': 4, 'random_state': None}\n",
            "Mean score nan with the following params {'ccp_alpha': 'float', 'max_depth': 3, 'max_features': 'auto', 'min_samples_split': 4, 'random_state': 1}\n",
            "Mean score nan with the following params {'ccp_alpha': 'float', 'max_depth': 3, 'max_features': 'auto', 'min_samples_split': 4, 'random_state': 2}\n",
            "Mean score nan with the following params {'ccp_alpha': 'float', 'max_depth': 3, 'max_features': 'auto', 'min_samples_split': 4, 'random_state': 3}\n",
            "Mean score nan with the following params {'ccp_alpha': 'float', 'max_depth': 3, 'max_features': 'auto', 'min_samples_split': 4, 'random_state': 4}\n",
            "Mean score nan with the following params {'ccp_alpha': 'float', 'max_depth': 3, 'max_features': 'sqrt', 'min_samples_split': 2, 'random_state': None}\n",
            "Mean score nan with the following params {'ccp_alpha': 'float', 'max_depth': 3, 'max_features': 'sqrt', 'min_samples_split': 2, 'random_state': 1}\n",
            "Mean score nan with the following params {'ccp_alpha': 'float', 'max_depth': 3, 'max_features': 'sqrt', 'min_samples_split': 2, 'random_state': 2}\n",
            "Mean score nan with the following params {'ccp_alpha': 'float', 'max_depth': 3, 'max_features': 'sqrt', 'min_samples_split': 2, 'random_state': 3}\n",
            "Mean score nan with the following params {'ccp_alpha': 'float', 'max_depth': 3, 'max_features': 'sqrt', 'min_samples_split': 2, 'random_state': 4}\n",
            "Mean score nan with the following params {'ccp_alpha': 'float', 'max_depth': 3, 'max_features': 'sqrt', 'min_samples_split': 3, 'random_state': None}\n",
            "Mean score nan with the following params {'ccp_alpha': 'float', 'max_depth': 3, 'max_features': 'sqrt', 'min_samples_split': 3, 'random_state': 1}\n",
            "Mean score nan with the following params {'ccp_alpha': 'float', 'max_depth': 3, 'max_features': 'sqrt', 'min_samples_split': 3, 'random_state': 2}\n",
            "Mean score nan with the following params {'ccp_alpha': 'float', 'max_depth': 3, 'max_features': 'sqrt', 'min_samples_split': 3, 'random_state': 3}\n",
            "Mean score nan with the following params {'ccp_alpha': 'float', 'max_depth': 3, 'max_features': 'sqrt', 'min_samples_split': 3, 'random_state': 4}\n",
            "Mean score nan with the following params {'ccp_alpha': 'float', 'max_depth': 3, 'max_features': 'sqrt', 'min_samples_split': 4, 'random_state': None}\n",
            "Mean score nan with the following params {'ccp_alpha': 'float', 'max_depth': 3, 'max_features': 'sqrt', 'min_samples_split': 4, 'random_state': 1}\n",
            "Mean score nan with the following params {'ccp_alpha': 'float', 'max_depth': 3, 'max_features': 'sqrt', 'min_samples_split': 4, 'random_state': 2}\n",
            "Mean score nan with the following params {'ccp_alpha': 'float', 'max_depth': 3, 'max_features': 'sqrt', 'min_samples_split': 4, 'random_state': 3}\n",
            "Mean score nan with the following params {'ccp_alpha': 'float', 'max_depth': 3, 'max_features': 'sqrt', 'min_samples_split': 4, 'random_state': 4}\n",
            "Mean score nan with the following params {'ccp_alpha': 'float', 'max_depth': 3, 'max_features': 'log2', 'min_samples_split': 2, 'random_state': None}\n",
            "Mean score nan with the following params {'ccp_alpha': 'float', 'max_depth': 3, 'max_features': 'log2', 'min_samples_split': 2, 'random_state': 1}\n",
            "Mean score nan with the following params {'ccp_alpha': 'float', 'max_depth': 3, 'max_features': 'log2', 'min_samples_split': 2, 'random_state': 2}\n",
            "Mean score nan with the following params {'ccp_alpha': 'float', 'max_depth': 3, 'max_features': 'log2', 'min_samples_split': 2, 'random_state': 3}\n",
            "Mean score nan with the following params {'ccp_alpha': 'float', 'max_depth': 3, 'max_features': 'log2', 'min_samples_split': 2, 'random_state': 4}\n",
            "Mean score nan with the following params {'ccp_alpha': 'float', 'max_depth': 3, 'max_features': 'log2', 'min_samples_split': 3, 'random_state': None}\n",
            "Mean score nan with the following params {'ccp_alpha': 'float', 'max_depth': 3, 'max_features': 'log2', 'min_samples_split': 3, 'random_state': 1}\n",
            "Mean score nan with the following params {'ccp_alpha': 'float', 'max_depth': 3, 'max_features': 'log2', 'min_samples_split': 3, 'random_state': 2}\n",
            "Mean score nan with the following params {'ccp_alpha': 'float', 'max_depth': 3, 'max_features': 'log2', 'min_samples_split': 3, 'random_state': 3}\n",
            "Mean score nan with the following params {'ccp_alpha': 'float', 'max_depth': 3, 'max_features': 'log2', 'min_samples_split': 3, 'random_state': 4}\n",
            "Mean score nan with the following params {'ccp_alpha': 'float', 'max_depth': 3, 'max_features': 'log2', 'min_samples_split': 4, 'random_state': None}\n",
            "Mean score nan with the following params {'ccp_alpha': 'float', 'max_depth': 3, 'max_features': 'log2', 'min_samples_split': 4, 'random_state': 1}\n",
            "Mean score nan with the following params {'ccp_alpha': 'float', 'max_depth': 3, 'max_features': 'log2', 'min_samples_split': 4, 'random_state': 2}\n",
            "Mean score nan with the following params {'ccp_alpha': 'float', 'max_depth': 3, 'max_features': 'log2', 'min_samples_split': 4, 'random_state': 3}\n",
            "Mean score nan with the following params {'ccp_alpha': 'float', 'max_depth': 3, 'max_features': 'log2', 'min_samples_split': 4, 'random_state': 4}\n",
            "Mean score nan with the following params {'ccp_alpha': 'float', 'max_depth': 5, 'max_features': 'auto', 'min_samples_split': 2, 'random_state': None}\n",
            "Mean score nan with the following params {'ccp_alpha': 'float', 'max_depth': 5, 'max_features': 'auto', 'min_samples_split': 2, 'random_state': 1}\n",
            "Mean score nan with the following params {'ccp_alpha': 'float', 'max_depth': 5, 'max_features': 'auto', 'min_samples_split': 2, 'random_state': 2}\n",
            "Mean score nan with the following params {'ccp_alpha': 'float', 'max_depth': 5, 'max_features': 'auto', 'min_samples_split': 2, 'random_state': 3}\n",
            "Mean score nan with the following params {'ccp_alpha': 'float', 'max_depth': 5, 'max_features': 'auto', 'min_samples_split': 2, 'random_state': 4}\n",
            "Mean score nan with the following params {'ccp_alpha': 'float', 'max_depth': 5, 'max_features': 'auto', 'min_samples_split': 3, 'random_state': None}\n",
            "Mean score nan with the following params {'ccp_alpha': 'float', 'max_depth': 5, 'max_features': 'auto', 'min_samples_split': 3, 'random_state': 1}\n",
            "Mean score nan with the following params {'ccp_alpha': 'float', 'max_depth': 5, 'max_features': 'auto', 'min_samples_split': 3, 'random_state': 2}\n",
            "Mean score nan with the following params {'ccp_alpha': 'float', 'max_depth': 5, 'max_features': 'auto', 'min_samples_split': 3, 'random_state': 3}\n",
            "Mean score nan with the following params {'ccp_alpha': 'float', 'max_depth': 5, 'max_features': 'auto', 'min_samples_split': 3, 'random_state': 4}\n",
            "Mean score nan with the following params {'ccp_alpha': 'float', 'max_depth': 5, 'max_features': 'auto', 'min_samples_split': 4, 'random_state': None}\n",
            "Mean score nan with the following params {'ccp_alpha': 'float', 'max_depth': 5, 'max_features': 'auto', 'min_samples_split': 4, 'random_state': 1}\n",
            "Mean score nan with the following params {'ccp_alpha': 'float', 'max_depth': 5, 'max_features': 'auto', 'min_samples_split': 4, 'random_state': 2}\n",
            "Mean score nan with the following params {'ccp_alpha': 'float', 'max_depth': 5, 'max_features': 'auto', 'min_samples_split': 4, 'random_state': 3}\n",
            "Mean score nan with the following params {'ccp_alpha': 'float', 'max_depth': 5, 'max_features': 'auto', 'min_samples_split': 4, 'random_state': 4}\n",
            "Mean score nan with the following params {'ccp_alpha': 'float', 'max_depth': 5, 'max_features': 'sqrt', 'min_samples_split': 2, 'random_state': None}\n",
            "Mean score nan with the following params {'ccp_alpha': 'float', 'max_depth': 5, 'max_features': 'sqrt', 'min_samples_split': 2, 'random_state': 1}\n",
            "Mean score nan with the following params {'ccp_alpha': 'float', 'max_depth': 5, 'max_features': 'sqrt', 'min_samples_split': 2, 'random_state': 2}\n",
            "Mean score nan with the following params {'ccp_alpha': 'float', 'max_depth': 5, 'max_features': 'sqrt', 'min_samples_split': 2, 'random_state': 3}\n",
            "Mean score nan with the following params {'ccp_alpha': 'float', 'max_depth': 5, 'max_features': 'sqrt', 'min_samples_split': 2, 'random_state': 4}\n",
            "Mean score nan with the following params {'ccp_alpha': 'float', 'max_depth': 5, 'max_features': 'sqrt', 'min_samples_split': 3, 'random_state': None}\n",
            "Mean score nan with the following params {'ccp_alpha': 'float', 'max_depth': 5, 'max_features': 'sqrt', 'min_samples_split': 3, 'random_state': 1}\n",
            "Mean score nan with the following params {'ccp_alpha': 'float', 'max_depth': 5, 'max_features': 'sqrt', 'min_samples_split': 3, 'random_state': 2}\n",
            "Mean score nan with the following params {'ccp_alpha': 'float', 'max_depth': 5, 'max_features': 'sqrt', 'min_samples_split': 3, 'random_state': 3}\n",
            "Mean score nan with the following params {'ccp_alpha': 'float', 'max_depth': 5, 'max_features': 'sqrt', 'min_samples_split': 3, 'random_state': 4}\n",
            "Mean score nan with the following params {'ccp_alpha': 'float', 'max_depth': 5, 'max_features': 'sqrt', 'min_samples_split': 4, 'random_state': None}\n",
            "Mean score nan with the following params {'ccp_alpha': 'float', 'max_depth': 5, 'max_features': 'sqrt', 'min_samples_split': 4, 'random_state': 1}\n",
            "Mean score nan with the following params {'ccp_alpha': 'float', 'max_depth': 5, 'max_features': 'sqrt', 'min_samples_split': 4, 'random_state': 2}\n",
            "Mean score nan with the following params {'ccp_alpha': 'float', 'max_depth': 5, 'max_features': 'sqrt', 'min_samples_split': 4, 'random_state': 3}\n",
            "Mean score nan with the following params {'ccp_alpha': 'float', 'max_depth': 5, 'max_features': 'sqrt', 'min_samples_split': 4, 'random_state': 4}\n",
            "Mean score nan with the following params {'ccp_alpha': 'float', 'max_depth': 5, 'max_features': 'log2', 'min_samples_split': 2, 'random_state': None}\n",
            "Mean score nan with the following params {'ccp_alpha': 'float', 'max_depth': 5, 'max_features': 'log2', 'min_samples_split': 2, 'random_state': 1}\n",
            "Mean score nan with the following params {'ccp_alpha': 'float', 'max_depth': 5, 'max_features': 'log2', 'min_samples_split': 2, 'random_state': 2}\n",
            "Mean score nan with the following params {'ccp_alpha': 'float', 'max_depth': 5, 'max_features': 'log2', 'min_samples_split': 2, 'random_state': 3}\n",
            "Mean score nan with the following params {'ccp_alpha': 'float', 'max_depth': 5, 'max_features': 'log2', 'min_samples_split': 2, 'random_state': 4}\n",
            "Mean score nan with the following params {'ccp_alpha': 'float', 'max_depth': 5, 'max_features': 'log2', 'min_samples_split': 3, 'random_state': None}\n",
            "Mean score nan with the following params {'ccp_alpha': 'float', 'max_depth': 5, 'max_features': 'log2', 'min_samples_split': 3, 'random_state': 1}\n",
            "Mean score nan with the following params {'ccp_alpha': 'float', 'max_depth': 5, 'max_features': 'log2', 'min_samples_split': 3, 'random_state': 2}\n",
            "Mean score nan with the following params {'ccp_alpha': 'float', 'max_depth': 5, 'max_features': 'log2', 'min_samples_split': 3, 'random_state': 3}\n",
            "Mean score nan with the following params {'ccp_alpha': 'float', 'max_depth': 5, 'max_features': 'log2', 'min_samples_split': 3, 'random_state': 4}\n",
            "Mean score nan with the following params {'ccp_alpha': 'float', 'max_depth': 5, 'max_features': 'log2', 'min_samples_split': 4, 'random_state': None}\n",
            "Mean score nan with the following params {'ccp_alpha': 'float', 'max_depth': 5, 'max_features': 'log2', 'min_samples_split': 4, 'random_state': 1}\n",
            "Mean score nan with the following params {'ccp_alpha': 'float', 'max_depth': 5, 'max_features': 'log2', 'min_samples_split': 4, 'random_state': 2}\n",
            "Mean score nan with the following params {'ccp_alpha': 'float', 'max_depth': 5, 'max_features': 'log2', 'min_samples_split': 4, 'random_state': 3}\n",
            "Mean score nan with the following params {'ccp_alpha': 'float', 'max_depth': 5, 'max_features': 'log2', 'min_samples_split': 4, 'random_state': 4}\n",
            "Mean score nan with the following params {'ccp_alpha': 'float', 'max_depth': 10, 'max_features': 'auto', 'min_samples_split': 2, 'random_state': None}\n",
            "Mean score nan with the following params {'ccp_alpha': 'float', 'max_depth': 10, 'max_features': 'auto', 'min_samples_split': 2, 'random_state': 1}\n",
            "Mean score nan with the following params {'ccp_alpha': 'float', 'max_depth': 10, 'max_features': 'auto', 'min_samples_split': 2, 'random_state': 2}\n",
            "Mean score nan with the following params {'ccp_alpha': 'float', 'max_depth': 10, 'max_features': 'auto', 'min_samples_split': 2, 'random_state': 3}\n",
            "Mean score nan with the following params {'ccp_alpha': 'float', 'max_depth': 10, 'max_features': 'auto', 'min_samples_split': 2, 'random_state': 4}\n",
            "Mean score nan with the following params {'ccp_alpha': 'float', 'max_depth': 10, 'max_features': 'auto', 'min_samples_split': 3, 'random_state': None}\n",
            "Mean score nan with the following params {'ccp_alpha': 'float', 'max_depth': 10, 'max_features': 'auto', 'min_samples_split': 3, 'random_state': 1}\n",
            "Mean score nan with the following params {'ccp_alpha': 'float', 'max_depth': 10, 'max_features': 'auto', 'min_samples_split': 3, 'random_state': 2}\n",
            "Mean score nan with the following params {'ccp_alpha': 'float', 'max_depth': 10, 'max_features': 'auto', 'min_samples_split': 3, 'random_state': 3}\n",
            "Mean score nan with the following params {'ccp_alpha': 'float', 'max_depth': 10, 'max_features': 'auto', 'min_samples_split': 3, 'random_state': 4}\n",
            "Mean score nan with the following params {'ccp_alpha': 'float', 'max_depth': 10, 'max_features': 'auto', 'min_samples_split': 4, 'random_state': None}\n",
            "Mean score nan with the following params {'ccp_alpha': 'float', 'max_depth': 10, 'max_features': 'auto', 'min_samples_split': 4, 'random_state': 1}\n",
            "Mean score nan with the following params {'ccp_alpha': 'float', 'max_depth': 10, 'max_features': 'auto', 'min_samples_split': 4, 'random_state': 2}\n",
            "Mean score nan with the following params {'ccp_alpha': 'float', 'max_depth': 10, 'max_features': 'auto', 'min_samples_split': 4, 'random_state': 3}\n",
            "Mean score nan with the following params {'ccp_alpha': 'float', 'max_depth': 10, 'max_features': 'auto', 'min_samples_split': 4, 'random_state': 4}\n",
            "Mean score nan with the following params {'ccp_alpha': 'float', 'max_depth': 10, 'max_features': 'sqrt', 'min_samples_split': 2, 'random_state': None}\n",
            "Mean score nan with the following params {'ccp_alpha': 'float', 'max_depth': 10, 'max_features': 'sqrt', 'min_samples_split': 2, 'random_state': 1}\n",
            "Mean score nan with the following params {'ccp_alpha': 'float', 'max_depth': 10, 'max_features': 'sqrt', 'min_samples_split': 2, 'random_state': 2}\n",
            "Mean score nan with the following params {'ccp_alpha': 'float', 'max_depth': 10, 'max_features': 'sqrt', 'min_samples_split': 2, 'random_state': 3}\n",
            "Mean score nan with the following params {'ccp_alpha': 'float', 'max_depth': 10, 'max_features': 'sqrt', 'min_samples_split': 2, 'random_state': 4}\n",
            "Mean score nan with the following params {'ccp_alpha': 'float', 'max_depth': 10, 'max_features': 'sqrt', 'min_samples_split': 3, 'random_state': None}\n",
            "Mean score nan with the following params {'ccp_alpha': 'float', 'max_depth': 10, 'max_features': 'sqrt', 'min_samples_split': 3, 'random_state': 1}\n",
            "Mean score nan with the following params {'ccp_alpha': 'float', 'max_depth': 10, 'max_features': 'sqrt', 'min_samples_split': 3, 'random_state': 2}\n",
            "Mean score nan with the following params {'ccp_alpha': 'float', 'max_depth': 10, 'max_features': 'sqrt', 'min_samples_split': 3, 'random_state': 3}\n",
            "Mean score nan with the following params {'ccp_alpha': 'float', 'max_depth': 10, 'max_features': 'sqrt', 'min_samples_split': 3, 'random_state': 4}\n",
            "Mean score nan with the following params {'ccp_alpha': 'float', 'max_depth': 10, 'max_features': 'sqrt', 'min_samples_split': 4, 'random_state': None}\n",
            "Mean score nan with the following params {'ccp_alpha': 'float', 'max_depth': 10, 'max_features': 'sqrt', 'min_samples_split': 4, 'random_state': 1}\n",
            "Mean score nan with the following params {'ccp_alpha': 'float', 'max_depth': 10, 'max_features': 'sqrt', 'min_samples_split': 4, 'random_state': 2}\n",
            "Mean score nan with the following params {'ccp_alpha': 'float', 'max_depth': 10, 'max_features': 'sqrt', 'min_samples_split': 4, 'random_state': 3}\n",
            "Mean score nan with the following params {'ccp_alpha': 'float', 'max_depth': 10, 'max_features': 'sqrt', 'min_samples_split': 4, 'random_state': 4}\n",
            "Mean score nan with the following params {'ccp_alpha': 'float', 'max_depth': 10, 'max_features': 'log2', 'min_samples_split': 2, 'random_state': None}\n",
            "Mean score nan with the following params {'ccp_alpha': 'float', 'max_depth': 10, 'max_features': 'log2', 'min_samples_split': 2, 'random_state': 1}\n",
            "Mean score nan with the following params {'ccp_alpha': 'float', 'max_depth': 10, 'max_features': 'log2', 'min_samples_split': 2, 'random_state': 2}\n",
            "Mean score nan with the following params {'ccp_alpha': 'float', 'max_depth': 10, 'max_features': 'log2', 'min_samples_split': 2, 'random_state': 3}\n",
            "Mean score nan with the following params {'ccp_alpha': 'float', 'max_depth': 10, 'max_features': 'log2', 'min_samples_split': 2, 'random_state': 4}\n",
            "Mean score nan with the following params {'ccp_alpha': 'float', 'max_depth': 10, 'max_features': 'log2', 'min_samples_split': 3, 'random_state': None}\n",
            "Mean score nan with the following params {'ccp_alpha': 'float', 'max_depth': 10, 'max_features': 'log2', 'min_samples_split': 3, 'random_state': 1}\n",
            "Mean score nan with the following params {'ccp_alpha': 'float', 'max_depth': 10, 'max_features': 'log2', 'min_samples_split': 3, 'random_state': 2}\n",
            "Mean score nan with the following params {'ccp_alpha': 'float', 'max_depth': 10, 'max_features': 'log2', 'min_samples_split': 3, 'random_state': 3}\n",
            "Mean score nan with the following params {'ccp_alpha': 'float', 'max_depth': 10, 'max_features': 'log2', 'min_samples_split': 3, 'random_state': 4}\n",
            "Mean score nan with the following params {'ccp_alpha': 'float', 'max_depth': 10, 'max_features': 'log2', 'min_samples_split': 4, 'random_state': None}\n",
            "Mean score nan with the following params {'ccp_alpha': 'float', 'max_depth': 10, 'max_features': 'log2', 'min_samples_split': 4, 'random_state': 1}\n",
            "Mean score nan with the following params {'ccp_alpha': 'float', 'max_depth': 10, 'max_features': 'log2', 'min_samples_split': 4, 'random_state': 2}\n",
            "Mean score nan with the following params {'ccp_alpha': 'float', 'max_depth': 10, 'max_features': 'log2', 'min_samples_split': 4, 'random_state': 3}\n",
            "Mean score nan with the following params {'ccp_alpha': 'float', 'max_depth': 10, 'max_features': 'log2', 'min_samples_split': 4, 'random_state': 4}\n",
            "Mean score 115.01891874074 with the following params {'ccp_alpha': 0, 'max_depth': None, 'max_features': 'auto', 'min_samples_split': 2, 'random_state': None}\n",
            "Mean score 114.54265596698312 with the following params {'ccp_alpha': 0, 'max_depth': None, 'max_features': 'auto', 'min_samples_split': 2, 'random_state': 1}\n",
            "Mean score 113.522876379841 with the following params {'ccp_alpha': 0, 'max_depth': None, 'max_features': 'auto', 'min_samples_split': 2, 'random_state': 2}\n",
            "Mean score 114.1583231582574 with the following params {'ccp_alpha': 0, 'max_depth': None, 'max_features': 'auto', 'min_samples_split': 2, 'random_state': 3}\n",
            "Mean score 114.34098817013131 with the following params {'ccp_alpha': 0, 'max_depth': None, 'max_features': 'auto', 'min_samples_split': 2, 'random_state': 4}\n",
            "Mean score 113.30181914317228 with the following params {'ccp_alpha': 0, 'max_depth': None, 'max_features': 'auto', 'min_samples_split': 3, 'random_state': None}\n",
            "Mean score 113.36739762135035 with the following params {'ccp_alpha': 0, 'max_depth': None, 'max_features': 'auto', 'min_samples_split': 3, 'random_state': 1}\n",
            "Mean score 112.20074054379279 with the following params {'ccp_alpha': 0, 'max_depth': None, 'max_features': 'auto', 'min_samples_split': 3, 'random_state': 2}\n",
            "Mean score 113.47428274311618 with the following params {'ccp_alpha': 0, 'max_depth': None, 'max_features': 'auto', 'min_samples_split': 3, 'random_state': 3}\n",
            "Mean score 113.65748811148171 with the following params {'ccp_alpha': 0, 'max_depth': None, 'max_features': 'auto', 'min_samples_split': 3, 'random_state': 4}\n",
            "Mean score 111.58906328875108 with the following params {'ccp_alpha': 0, 'max_depth': None, 'max_features': 'auto', 'min_samples_split': 4, 'random_state': None}\n",
            "Mean score 113.3438883684601 with the following params {'ccp_alpha': 0, 'max_depth': None, 'max_features': 'auto', 'min_samples_split': 4, 'random_state': 1}\n",
            "Mean score 111.64726681971446 with the following params {'ccp_alpha': 0, 'max_depth': None, 'max_features': 'auto', 'min_samples_split': 4, 'random_state': 2}\n",
            "Mean score 112.65896175855956 with the following params {'ccp_alpha': 0, 'max_depth': None, 'max_features': 'auto', 'min_samples_split': 4, 'random_state': 3}\n",
            "Mean score 111.22550181765453 with the following params {'ccp_alpha': 0, 'max_depth': None, 'max_features': 'auto', 'min_samples_split': 4, 'random_state': 4}\n",
            "Mean score 129.8231942480991 with the following params {'ccp_alpha': 0, 'max_depth': None, 'max_features': 'sqrt', 'min_samples_split': 2, 'random_state': None}\n",
            "Mean score 138.58398874058548 with the following params {'ccp_alpha': 0, 'max_depth': None, 'max_features': 'sqrt', 'min_samples_split': 2, 'random_state': 1}\n",
            "Mean score 132.55642689827167 with the following params {'ccp_alpha': 0, 'max_depth': None, 'max_features': 'sqrt', 'min_samples_split': 2, 'random_state': 2}\n",
            "Mean score 137.2875963278325 with the following params {'ccp_alpha': 0, 'max_depth': None, 'max_features': 'sqrt', 'min_samples_split': 2, 'random_state': 3}\n",
            "Mean score 130.15561585768677 with the following params {'ccp_alpha': 0, 'max_depth': None, 'max_features': 'sqrt', 'min_samples_split': 2, 'random_state': 4}\n",
            "Mean score 136.15153903884956 with the following params {'ccp_alpha': 0, 'max_depth': None, 'max_features': 'sqrt', 'min_samples_split': 3, 'random_state': None}\n",
            "Mean score 135.65938592231956 with the following params {'ccp_alpha': 0, 'max_depth': None, 'max_features': 'sqrt', 'min_samples_split': 3, 'random_state': 1}\n",
            "Mean score 133.0836979208989 with the following params {'ccp_alpha': 0, 'max_depth': None, 'max_features': 'sqrt', 'min_samples_split': 3, 'random_state': 2}\n",
            "Mean score 131.431765939017 with the following params {'ccp_alpha': 0, 'max_depth': None, 'max_features': 'sqrt', 'min_samples_split': 3, 'random_state': 3}\n",
            "Mean score 121.53476031255266 with the following params {'ccp_alpha': 0, 'max_depth': None, 'max_features': 'sqrt', 'min_samples_split': 3, 'random_state': 4}\n",
            "Mean score 134.56573446530706 with the following params {'ccp_alpha': 0, 'max_depth': None, 'max_features': 'sqrt', 'min_samples_split': 4, 'random_state': None}\n",
            "Mean score 134.39120631574627 with the following params {'ccp_alpha': 0, 'max_depth': None, 'max_features': 'sqrt', 'min_samples_split': 4, 'random_state': 1}\n",
            "Mean score 127.13800789761538 with the following params {'ccp_alpha': 0, 'max_depth': None, 'max_features': 'sqrt', 'min_samples_split': 4, 'random_state': 2}\n",
            "Mean score 132.77184106410746 with the following params {'ccp_alpha': 0, 'max_depth': None, 'max_features': 'sqrt', 'min_samples_split': 4, 'random_state': 3}\n",
            "Mean score 125.3845580949437 with the following params {'ccp_alpha': 0, 'max_depth': None, 'max_features': 'sqrt', 'min_samples_split': 4, 'random_state': 4}\n",
            "Mean score 138.3273809998027 with the following params {'ccp_alpha': 0, 'max_depth': None, 'max_features': 'log2', 'min_samples_split': 2, 'random_state': None}\n",
            "Mean score 138.58398874058548 with the following params {'ccp_alpha': 0, 'max_depth': None, 'max_features': 'log2', 'min_samples_split': 2, 'random_state': 1}\n",
            "Mean score 132.55642689827167 with the following params {'ccp_alpha': 0, 'max_depth': None, 'max_features': 'log2', 'min_samples_split': 2, 'random_state': 2}\n",
            "Mean score 137.2875963278325 with the following params {'ccp_alpha': 0, 'max_depth': None, 'max_features': 'log2', 'min_samples_split': 2, 'random_state': 3}\n",
            "Mean score 130.15561585768677 with the following params {'ccp_alpha': 0, 'max_depth': None, 'max_features': 'log2', 'min_samples_split': 2, 'random_state': 4}\n",
            "Mean score 133.82419866350946 with the following params {'ccp_alpha': 0, 'max_depth': None, 'max_features': 'log2', 'min_samples_split': 3, 'random_state': None}\n",
            "Mean score 135.65938592231956 with the following params {'ccp_alpha': 0, 'max_depth': None, 'max_features': 'log2', 'min_samples_split': 3, 'random_state': 1}\n",
            "Mean score 133.0836979208989 with the following params {'ccp_alpha': 0, 'max_depth': None, 'max_features': 'log2', 'min_samples_split': 3, 'random_state': 2}\n",
            "Mean score 131.431765939017 with the following params {'ccp_alpha': 0, 'max_depth': None, 'max_features': 'log2', 'min_samples_split': 3, 'random_state': 3}\n",
            "Mean score 121.53476031255266 with the following params {'ccp_alpha': 0, 'max_depth': None, 'max_features': 'log2', 'min_samples_split': 3, 'random_state': 4}\n",
            "Mean score 125.95804554144146 with the following params {'ccp_alpha': 0, 'max_depth': None, 'max_features': 'log2', 'min_samples_split': 4, 'random_state': None}\n",
            "Mean score 134.39120631574627 with the following params {'ccp_alpha': 0, 'max_depth': None, 'max_features': 'log2', 'min_samples_split': 4, 'random_state': 1}\n",
            "Mean score 127.13800789761538 with the following params {'ccp_alpha': 0, 'max_depth': None, 'max_features': 'log2', 'min_samples_split': 4, 'random_state': 2}\n",
            "Mean score 132.77184106410746 with the following params {'ccp_alpha': 0, 'max_depth': None, 'max_features': 'log2', 'min_samples_split': 4, 'random_state': 3}\n",
            "Mean score 125.3845580949437 with the following params {'ccp_alpha': 0, 'max_depth': None, 'max_features': 'log2', 'min_samples_split': 4, 'random_state': 4}\n",
            "Mean score 170.62850386709803 with the following params {'ccp_alpha': 0, 'max_depth': 3, 'max_features': 'auto', 'min_samples_split': 2, 'random_state': None}\n",
            "Mean score 170.62850386709806 with the following params {'ccp_alpha': 0, 'max_depth': 3, 'max_features': 'auto', 'min_samples_split': 2, 'random_state': 1}\n",
            "Mean score 170.62850386709803 with the following params {'ccp_alpha': 0, 'max_depth': 3, 'max_features': 'auto', 'min_samples_split': 2, 'random_state': 2}\n",
            "Mean score 170.62850386709803 with the following params {'ccp_alpha': 0, 'max_depth': 3, 'max_features': 'auto', 'min_samples_split': 2, 'random_state': 3}\n",
            "Mean score 170.62850386709803 with the following params {'ccp_alpha': 0, 'max_depth': 3, 'max_features': 'auto', 'min_samples_split': 2, 'random_state': 4}\n",
            "Mean score 170.62850386709806 with the following params {'ccp_alpha': 0, 'max_depth': 3, 'max_features': 'auto', 'min_samples_split': 3, 'random_state': None}\n",
            "Mean score 170.62850386709806 with the following params {'ccp_alpha': 0, 'max_depth': 3, 'max_features': 'auto', 'min_samples_split': 3, 'random_state': 1}\n",
            "Mean score 170.62850386709803 with the following params {'ccp_alpha': 0, 'max_depth': 3, 'max_features': 'auto', 'min_samples_split': 3, 'random_state': 2}\n",
            "Mean score 170.62850386709803 with the following params {'ccp_alpha': 0, 'max_depth': 3, 'max_features': 'auto', 'min_samples_split': 3, 'random_state': 3}\n",
            "Mean score 170.62850386709803 with the following params {'ccp_alpha': 0, 'max_depth': 3, 'max_features': 'auto', 'min_samples_split': 3, 'random_state': 4}\n",
            "Mean score 170.62850386709803 with the following params {'ccp_alpha': 0, 'max_depth': 3, 'max_features': 'auto', 'min_samples_split': 4, 'random_state': None}\n",
            "Mean score 170.62850386709806 with the following params {'ccp_alpha': 0, 'max_depth': 3, 'max_features': 'auto', 'min_samples_split': 4, 'random_state': 1}\n",
            "Mean score 170.62850386709803 with the following params {'ccp_alpha': 0, 'max_depth': 3, 'max_features': 'auto', 'min_samples_split': 4, 'random_state': 2}\n",
            "Mean score 170.62850386709803 with the following params {'ccp_alpha': 0, 'max_depth': 3, 'max_features': 'auto', 'min_samples_split': 4, 'random_state': 3}\n",
            "Mean score 170.62850386709803 with the following params {'ccp_alpha': 0, 'max_depth': 3, 'max_features': 'auto', 'min_samples_split': 4, 'random_state': 4}\n",
            "Mean score 206.6074632719613 with the following params {'ccp_alpha': 0, 'max_depth': 3, 'max_features': 'sqrt', 'min_samples_split': 2, 'random_state': None}\n",
            "Mean score 206.9961839241848 with the following params {'ccp_alpha': 0, 'max_depth': 3, 'max_features': 'sqrt', 'min_samples_split': 2, 'random_state': 1}\n",
            "Mean score 210.6379557924488 with the following params {'ccp_alpha': 0, 'max_depth': 3, 'max_features': 'sqrt', 'min_samples_split': 2, 'random_state': 2}\n",
            "Mean score 213.34376183969792 with the following params {'ccp_alpha': 0, 'max_depth': 3, 'max_features': 'sqrt', 'min_samples_split': 2, 'random_state': 3}\n",
            "Mean score 179.52199907893453 with the following params {'ccp_alpha': 0, 'max_depth': 3, 'max_features': 'sqrt', 'min_samples_split': 2, 'random_state': 4}\n",
            "Mean score 232.55569926224214 with the following params {'ccp_alpha': 0, 'max_depth': 3, 'max_features': 'sqrt', 'min_samples_split': 3, 'random_state': None}\n",
            "Mean score 206.9961839241848 with the following params {'ccp_alpha': 0, 'max_depth': 3, 'max_features': 'sqrt', 'min_samples_split': 3, 'random_state': 1}\n",
            "Mean score 210.6379557924488 with the following params {'ccp_alpha': 0, 'max_depth': 3, 'max_features': 'sqrt', 'min_samples_split': 3, 'random_state': 2}\n",
            "Mean score 213.34376183969792 with the following params {'ccp_alpha': 0, 'max_depth': 3, 'max_features': 'sqrt', 'min_samples_split': 3, 'random_state': 3}\n",
            "Mean score 179.52199907893453 with the following params {'ccp_alpha': 0, 'max_depth': 3, 'max_features': 'sqrt', 'min_samples_split': 3, 'random_state': 4}\n",
            "Mean score 197.03042790978552 with the following params {'ccp_alpha': 0, 'max_depth': 3, 'max_features': 'sqrt', 'min_samples_split': 4, 'random_state': None}\n",
            "Mean score 206.9961839241848 with the following params {'ccp_alpha': 0, 'max_depth': 3, 'max_features': 'sqrt', 'min_samples_split': 4, 'random_state': 1}\n",
            "Mean score 210.6379557924488 with the following params {'ccp_alpha': 0, 'max_depth': 3, 'max_features': 'sqrt', 'min_samples_split': 4, 'random_state': 2}\n",
            "Mean score 213.34376183969792 with the following params {'ccp_alpha': 0, 'max_depth': 3, 'max_features': 'sqrt', 'min_samples_split': 4, 'random_state': 3}\n",
            "Mean score 179.52199907893453 with the following params {'ccp_alpha': 0, 'max_depth': 3, 'max_features': 'sqrt', 'min_samples_split': 4, 'random_state': 4}\n",
            "Mean score 211.6730474517572 with the following params {'ccp_alpha': 0, 'max_depth': 3, 'max_features': 'log2', 'min_samples_split': 2, 'random_state': None}\n",
            "Mean score 206.9961839241848 with the following params {'ccp_alpha': 0, 'max_depth': 3, 'max_features': 'log2', 'min_samples_split': 2, 'random_state': 1}\n",
            "Mean score 210.6379557924488 with the following params {'ccp_alpha': 0, 'max_depth': 3, 'max_features': 'log2', 'min_samples_split': 2, 'random_state': 2}\n",
            "Mean score 213.34376183969792 with the following params {'ccp_alpha': 0, 'max_depth': 3, 'max_features': 'log2', 'min_samples_split': 2, 'random_state': 3}\n",
            "Mean score 179.52199907893453 with the following params {'ccp_alpha': 0, 'max_depth': 3, 'max_features': 'log2', 'min_samples_split': 2, 'random_state': 4}\n",
            "Mean score 216.55221693980042 with the following params {'ccp_alpha': 0, 'max_depth': 3, 'max_features': 'log2', 'min_samples_split': 3, 'random_state': None}\n",
            "Mean score 206.9961839241848 with the following params {'ccp_alpha': 0, 'max_depth': 3, 'max_features': 'log2', 'min_samples_split': 3, 'random_state': 1}\n",
            "Mean score 210.6379557924488 with the following params {'ccp_alpha': 0, 'max_depth': 3, 'max_features': 'log2', 'min_samples_split': 3, 'random_state': 2}\n",
            "Mean score 213.34376183969792 with the following params {'ccp_alpha': 0, 'max_depth': 3, 'max_features': 'log2', 'min_samples_split': 3, 'random_state': 3}\n",
            "Mean score 179.52199907893453 with the following params {'ccp_alpha': 0, 'max_depth': 3, 'max_features': 'log2', 'min_samples_split': 3, 'random_state': 4}\n",
            "Mean score 194.90452429752742 with the following params {'ccp_alpha': 0, 'max_depth': 3, 'max_features': 'log2', 'min_samples_split': 4, 'random_state': None}\n",
            "Mean score 206.9961839241848 with the following params {'ccp_alpha': 0, 'max_depth': 3, 'max_features': 'log2', 'min_samples_split': 4, 'random_state': 1}\n",
            "Mean score 210.6379557924488 with the following params {'ccp_alpha': 0, 'max_depth': 3, 'max_features': 'log2', 'min_samples_split': 4, 'random_state': 2}\n",
            "Mean score 213.34376183969792 with the following params {'ccp_alpha': 0, 'max_depth': 3, 'max_features': 'log2', 'min_samples_split': 4, 'random_state': 3}\n",
            "Mean score 179.52199907893453 with the following params {'ccp_alpha': 0, 'max_depth': 3, 'max_features': 'log2', 'min_samples_split': 4, 'random_state': 4}\n",
            "Mean score 130.56566055039883 with the following params {'ccp_alpha': 0, 'max_depth': 5, 'max_features': 'auto', 'min_samples_split': 2, 'random_state': None}\n",
            "Mean score 130.56566055039883 with the following params {'ccp_alpha': 0, 'max_depth': 5, 'max_features': 'auto', 'min_samples_split': 2, 'random_state': 1}\n",
            "Mean score 130.56566055039883 with the following params {'ccp_alpha': 0, 'max_depth': 5, 'max_features': 'auto', 'min_samples_split': 2, 'random_state': 2}\n",
            "Mean score 130.56566055039883 with the following params {'ccp_alpha': 0, 'max_depth': 5, 'max_features': 'auto', 'min_samples_split': 2, 'random_state': 3}\n",
            "Mean score 130.56566055039883 with the following params {'ccp_alpha': 0, 'max_depth': 5, 'max_features': 'auto', 'min_samples_split': 2, 'random_state': 4}\n",
            "Mean score 130.56566055039883 with the following params {'ccp_alpha': 0, 'max_depth': 5, 'max_features': 'auto', 'min_samples_split': 3, 'random_state': None}\n",
            "Mean score 130.56566055039883 with the following params {'ccp_alpha': 0, 'max_depth': 5, 'max_features': 'auto', 'min_samples_split': 3, 'random_state': 1}\n",
            "Mean score 130.56566055039883 with the following params {'ccp_alpha': 0, 'max_depth': 5, 'max_features': 'auto', 'min_samples_split': 3, 'random_state': 2}\n",
            "Mean score 130.56566055039883 with the following params {'ccp_alpha': 0, 'max_depth': 5, 'max_features': 'auto', 'min_samples_split': 3, 'random_state': 3}\n",
            "Mean score 130.56566055039883 with the following params {'ccp_alpha': 0, 'max_depth': 5, 'max_features': 'auto', 'min_samples_split': 3, 'random_state': 4}\n",
            "Mean score 130.56566055039883 with the following params {'ccp_alpha': 0, 'max_depth': 5, 'max_features': 'auto', 'min_samples_split': 4, 'random_state': None}\n",
            "Mean score 130.56566055039883 with the following params {'ccp_alpha': 0, 'max_depth': 5, 'max_features': 'auto', 'min_samples_split': 4, 'random_state': 1}\n",
            "Mean score 130.56566055039883 with the following params {'ccp_alpha': 0, 'max_depth': 5, 'max_features': 'auto', 'min_samples_split': 4, 'random_state': 2}\n",
            "Mean score 130.56566055039883 with the following params {'ccp_alpha': 0, 'max_depth': 5, 'max_features': 'auto', 'min_samples_split': 4, 'random_state': 3}\n",
            "Mean score 130.56566055039883 with the following params {'ccp_alpha': 0, 'max_depth': 5, 'max_features': 'auto', 'min_samples_split': 4, 'random_state': 4}\n",
            "Mean score 185.61552899715798 with the following params {'ccp_alpha': 0, 'max_depth': 5, 'max_features': 'sqrt', 'min_samples_split': 2, 'random_state': None}\n",
            "Mean score 211.87306201433566 with the following params {'ccp_alpha': 0, 'max_depth': 5, 'max_features': 'sqrt', 'min_samples_split': 2, 'random_state': 1}\n",
            "Mean score 173.282540411438 with the following params {'ccp_alpha': 0, 'max_depth': 5, 'max_features': 'sqrt', 'min_samples_split': 2, 'random_state': 2}\n",
            "Mean score 170.9339039067142 with the following params {'ccp_alpha': 0, 'max_depth': 5, 'max_features': 'sqrt', 'min_samples_split': 2, 'random_state': 3}\n",
            "Mean score 162.42379242859488 with the following params {'ccp_alpha': 0, 'max_depth': 5, 'max_features': 'sqrt', 'min_samples_split': 2, 'random_state': 4}\n",
            "Mean score 165.28070782675374 with the following params {'ccp_alpha': 0, 'max_depth': 5, 'max_features': 'sqrt', 'min_samples_split': 3, 'random_state': None}\n",
            "Mean score 211.87306201433566 with the following params {'ccp_alpha': 0, 'max_depth': 5, 'max_features': 'sqrt', 'min_samples_split': 3, 'random_state': 1}\n",
            "Mean score 173.282540411438 with the following params {'ccp_alpha': 0, 'max_depth': 5, 'max_features': 'sqrt', 'min_samples_split': 3, 'random_state': 2}\n",
            "Mean score 170.9339039067142 with the following params {'ccp_alpha': 0, 'max_depth': 5, 'max_features': 'sqrt', 'min_samples_split': 3, 'random_state': 3}\n",
            "Mean score 167.11945633484518 with the following params {'ccp_alpha': 0, 'max_depth': 5, 'max_features': 'sqrt', 'min_samples_split': 3, 'random_state': 4}\n",
            "Mean score 178.69273112166294 with the following params {'ccp_alpha': 0, 'max_depth': 5, 'max_features': 'sqrt', 'min_samples_split': 4, 'random_state': None}\n",
            "Mean score 211.87306201433566 with the following params {'ccp_alpha': 0, 'max_depth': 5, 'max_features': 'sqrt', 'min_samples_split': 4, 'random_state': 1}\n",
            "Mean score 173.282540411438 with the following params {'ccp_alpha': 0, 'max_depth': 5, 'max_features': 'sqrt', 'min_samples_split': 4, 'random_state': 2}\n",
            "Mean score 170.9339039067142 with the following params {'ccp_alpha': 0, 'max_depth': 5, 'max_features': 'sqrt', 'min_samples_split': 4, 'random_state': 3}\n",
            "Mean score 175.91370502777409 with the following params {'ccp_alpha': 0, 'max_depth': 5, 'max_features': 'sqrt', 'min_samples_split': 4, 'random_state': 4}\n",
            "Mean score 166.00624258767826 with the following params {'ccp_alpha': 0, 'max_depth': 5, 'max_features': 'log2', 'min_samples_split': 2, 'random_state': None}\n",
            "Mean score 211.87306201433566 with the following params {'ccp_alpha': 0, 'max_depth': 5, 'max_features': 'log2', 'min_samples_split': 2, 'random_state': 1}\n",
            "Mean score 173.282540411438 with the following params {'ccp_alpha': 0, 'max_depth': 5, 'max_features': 'log2', 'min_samples_split': 2, 'random_state': 2}\n",
            "Mean score 170.9339039067142 with the following params {'ccp_alpha': 0, 'max_depth': 5, 'max_features': 'log2', 'min_samples_split': 2, 'random_state': 3}\n",
            "Mean score 162.42379242859488 with the following params {'ccp_alpha': 0, 'max_depth': 5, 'max_features': 'log2', 'min_samples_split': 2, 'random_state': 4}\n",
            "Mean score 162.49837498533878 with the following params {'ccp_alpha': 0, 'max_depth': 5, 'max_features': 'log2', 'min_samples_split': 3, 'random_state': None}\n",
            "Mean score 211.87306201433566 with the following params {'ccp_alpha': 0, 'max_depth': 5, 'max_features': 'log2', 'min_samples_split': 3, 'random_state': 1}\n",
            "Mean score 173.282540411438 with the following params {'ccp_alpha': 0, 'max_depth': 5, 'max_features': 'log2', 'min_samples_split': 3, 'random_state': 2}\n",
            "Mean score 170.9339039067142 with the following params {'ccp_alpha': 0, 'max_depth': 5, 'max_features': 'log2', 'min_samples_split': 3, 'random_state': 3}\n",
            "Mean score 167.11945633484518 with the following params {'ccp_alpha': 0, 'max_depth': 5, 'max_features': 'log2', 'min_samples_split': 3, 'random_state': 4}\n",
            "Mean score 173.69426481951845 with the following params {'ccp_alpha': 0, 'max_depth': 5, 'max_features': 'log2', 'min_samples_split': 4, 'random_state': None}\n",
            "Mean score 211.87306201433566 with the following params {'ccp_alpha': 0, 'max_depth': 5, 'max_features': 'log2', 'min_samples_split': 4, 'random_state': 1}\n",
            "Mean score 173.282540411438 with the following params {'ccp_alpha': 0, 'max_depth': 5, 'max_features': 'log2', 'min_samples_split': 4, 'random_state': 2}\n",
            "Mean score 170.9339039067142 with the following params {'ccp_alpha': 0, 'max_depth': 5, 'max_features': 'log2', 'min_samples_split': 4, 'random_state': 3}\n",
            "Mean score 175.91370502777409 with the following params {'ccp_alpha': 0, 'max_depth': 5, 'max_features': 'log2', 'min_samples_split': 4, 'random_state': 4}\n",
            "Mean score 102.45929265359905 with the following params {'ccp_alpha': 0, 'max_depth': 10, 'max_features': 'auto', 'min_samples_split': 2, 'random_state': None}\n",
            "Mean score 102.18926397460103 with the following params {'ccp_alpha': 0, 'max_depth': 10, 'max_features': 'auto', 'min_samples_split': 2, 'random_state': 1}\n",
            "Mean score 101.94377687718028 with the following params {'ccp_alpha': 0, 'max_depth': 10, 'max_features': 'auto', 'min_samples_split': 2, 'random_state': 2}\n",
            "Mean score 102.65340534245877 with the following params {'ccp_alpha': 0, 'max_depth': 10, 'max_features': 'auto', 'min_samples_split': 2, 'random_state': 3}\n",
            "Mean score 102.02628726771324 with the following params {'ccp_alpha': 0, 'max_depth': 10, 'max_features': 'auto', 'min_samples_split': 2, 'random_state': 4}\n",
            "Mean score 101.92115523290502 with the following params {'ccp_alpha': 0, 'max_depth': 10, 'max_features': 'auto', 'min_samples_split': 3, 'random_state': None}\n",
            "Mean score 102.07995310435942 with the following params {'ccp_alpha': 0, 'max_depth': 10, 'max_features': 'auto', 'min_samples_split': 3, 'random_state': 1}\n",
            "Mean score 101.89161411076616 with the following params {'ccp_alpha': 0, 'max_depth': 10, 'max_features': 'auto', 'min_samples_split': 3, 'random_state': 2}\n",
            "Mean score 101.80460064896508 with the following params {'ccp_alpha': 0, 'max_depth': 10, 'max_features': 'auto', 'min_samples_split': 3, 'random_state': 3}\n",
            "Mean score 101.98615679716427 with the following params {'ccp_alpha': 0, 'max_depth': 10, 'max_features': 'auto', 'min_samples_split': 3, 'random_state': 4}\n",
            "Mean score 101.95246387299099 with the following params {'ccp_alpha': 0, 'max_depth': 10, 'max_features': 'auto', 'min_samples_split': 4, 'random_state': None}\n",
            "Mean score 102.08087444580305 with the following params {'ccp_alpha': 0, 'max_depth': 10, 'max_features': 'auto', 'min_samples_split': 4, 'random_state': 1}\n",
            "Mean score 101.94469719671311 with the following params {'ccp_alpha': 0, 'max_depth': 10, 'max_features': 'auto', 'min_samples_split': 4, 'random_state': 2}\n",
            "Mean score 102.0405892520093 with the following params {'ccp_alpha': 0, 'max_depth': 10, 'max_features': 'auto', 'min_samples_split': 4, 'random_state': 3}\n",
            "Mean score 102.13500638576612 with the following params {'ccp_alpha': 0, 'max_depth': 10, 'max_features': 'auto', 'min_samples_split': 4, 'random_state': 4}\n",
            "Mean score 128.00899852294052 with the following params {'ccp_alpha': 0, 'max_depth': 10, 'max_features': 'sqrt', 'min_samples_split': 2, 'random_state': None}\n",
            "Mean score 137.1752177363397 with the following params {'ccp_alpha': 0, 'max_depth': 10, 'max_features': 'sqrt', 'min_samples_split': 2, 'random_state': 1}\n",
            "Mean score 133.8411657710136 with the following params {'ccp_alpha': 0, 'max_depth': 10, 'max_features': 'sqrt', 'min_samples_split': 2, 'random_state': 2}\n",
            "Mean score 140.6152967285318 with the following params {'ccp_alpha': 0, 'max_depth': 10, 'max_features': 'sqrt', 'min_samples_split': 2, 'random_state': 3}\n",
            "Mean score 117.75909449484766 with the following params {'ccp_alpha': 0, 'max_depth': 10, 'max_features': 'sqrt', 'min_samples_split': 2, 'random_state': 4}\n",
            "Mean score 129.09053487568502 with the following params {'ccp_alpha': 0, 'max_depth': 10, 'max_features': 'sqrt', 'min_samples_split': 3, 'random_state': None}\n",
            "Mean score 132.68606539902157 with the following params {'ccp_alpha': 0, 'max_depth': 10, 'max_features': 'sqrt', 'min_samples_split': 3, 'random_state': 1}\n",
            "Mean score 134.45156703762933 with the following params {'ccp_alpha': 0, 'max_depth': 10, 'max_features': 'sqrt', 'min_samples_split': 3, 'random_state': 2}\n",
            "Mean score 129.764081851493 with the following params {'ccp_alpha': 0, 'max_depth': 10, 'max_features': 'sqrt', 'min_samples_split': 3, 'random_state': 3}\n",
            "Mean score 118.68636023095664 with the following params {'ccp_alpha': 0, 'max_depth': 10, 'max_features': 'sqrt', 'min_samples_split': 3, 'random_state': 4}\n",
            "Mean score 128.05395938500456 with the following params {'ccp_alpha': 0, 'max_depth': 10, 'max_features': 'sqrt', 'min_samples_split': 4, 'random_state': None}\n",
            "Mean score 134.79635834287657 with the following params {'ccp_alpha': 0, 'max_depth': 10, 'max_features': 'sqrt', 'min_samples_split': 4, 'random_state': 1}\n",
            "Mean score 130.97513163865426 with the following params {'ccp_alpha': 0, 'max_depth': 10, 'max_features': 'sqrt', 'min_samples_split': 4, 'random_state': 2}\n",
            "Mean score 125.87522706186378 with the following params {'ccp_alpha': 0, 'max_depth': 10, 'max_features': 'sqrt', 'min_samples_split': 4, 'random_state': 3}\n",
            "Mean score 122.99504268495974 with the following params {'ccp_alpha': 0, 'max_depth': 10, 'max_features': 'sqrt', 'min_samples_split': 4, 'random_state': 4}\n",
            "Mean score 131.76950940813296 with the following params {'ccp_alpha': 0, 'max_depth': 10, 'max_features': 'log2', 'min_samples_split': 2, 'random_state': None}\n",
            "Mean score 137.1752177363397 with the following params {'ccp_alpha': 0, 'max_depth': 10, 'max_features': 'log2', 'min_samples_split': 2, 'random_state': 1}\n",
            "Mean score 133.8411657710136 with the following params {'ccp_alpha': 0, 'max_depth': 10, 'max_features': 'log2', 'min_samples_split': 2, 'random_state': 2}\n",
            "Mean score 140.6152967285318 with the following params {'ccp_alpha': 0, 'max_depth': 10, 'max_features': 'log2', 'min_samples_split': 2, 'random_state': 3}\n",
            "Mean score 117.75909449484766 with the following params {'ccp_alpha': 0, 'max_depth': 10, 'max_features': 'log2', 'min_samples_split': 2, 'random_state': 4}\n",
            "Mean score 123.54210000295973 with the following params {'ccp_alpha': 0, 'max_depth': 10, 'max_features': 'log2', 'min_samples_split': 3, 'random_state': None}\n",
            "Mean score 132.68606539902157 with the following params {'ccp_alpha': 0, 'max_depth': 10, 'max_features': 'log2', 'min_samples_split': 3, 'random_state': 1}\n",
            "Mean score 134.45156703762933 with the following params {'ccp_alpha': 0, 'max_depth': 10, 'max_features': 'log2', 'min_samples_split': 3, 'random_state': 2}\n",
            "Mean score 129.764081851493 with the following params {'ccp_alpha': 0, 'max_depth': 10, 'max_features': 'log2', 'min_samples_split': 3, 'random_state': 3}\n",
            "Mean score 118.68636023095664 with the following params {'ccp_alpha': 0, 'max_depth': 10, 'max_features': 'log2', 'min_samples_split': 3, 'random_state': 4}\n",
            "Mean score 132.97148164584473 with the following params {'ccp_alpha': 0, 'max_depth': 10, 'max_features': 'log2', 'min_samples_split': 4, 'random_state': None}\n",
            "Mean score 134.79635834287657 with the following params {'ccp_alpha': 0, 'max_depth': 10, 'max_features': 'log2', 'min_samples_split': 4, 'random_state': 1}\n",
            "Mean score 130.97513163865426 with the following params {'ccp_alpha': 0, 'max_depth': 10, 'max_features': 'log2', 'min_samples_split': 4, 'random_state': 2}\n",
            "Mean score 125.87522706186378 with the following params {'ccp_alpha': 0, 'max_depth': 10, 'max_features': 'log2', 'min_samples_split': 4, 'random_state': 3}\n",
            "Mean score 122.99504268495974 with the following params {'ccp_alpha': 0, 'max_depth': 10, 'max_features': 'log2', 'min_samples_split': 4, 'random_state': 4}\n",
            "Best estim: \n"
          ],
          "name": "stdout"
        },
        {
          "output_type": "execute_result",
          "data": {
            "text/plain": [
              "DecisionTreeRegressor(ccp_alpha=0, criterion='mse', max_depth=10,\n",
              "                      max_features='auto', max_leaf_nodes=None,\n",
              "                      min_impurity_decrease=0.0, min_impurity_split=None,\n",
              "                      min_samples_leaf=1, min_samples_split=3,\n",
              "                      min_weight_fraction_leaf=0.0, presort='deprecated',\n",
              "                      random_state=3, splitter='best')"
            ]
          },
          "metadata": {
            "tags": []
          },
          "execution_count": 49
        }
      ]
    },
    {
      "cell_type": "markdown",
      "metadata": {
        "id": "1LHgr1-Q2nn8"
      },
      "source": [
        "Best estim: \r\n",
        "DecisionTreeRegressor(\r\n",
        "    \r\n",
        "    ccp_alpha=0.0, criterion='mse', max_depth=10,\r\n",
        "                      \r\n",
        "    max_features='auto', max_leaf_nodes=None,\r\n",
        "             \r\n",
        "    min_impurity_decrease=0.0, min_impurity_split=None,\r\n",
        "                      \r\n",
        "    min_samples_leaf=1, min_samples_split=3,\r\n",
        "                      \r\n",
        "    min_weight_fraction_leaf=0.0, presort='deprecated',\r\n",
        "                      \r\n",
        "    random_state=3, splitter='best')"
      ]
    },
    {
      "cell_type": "code",
      "metadata": {
        "colab": {
          "base_uri": "https://localhost:8080/"
        },
        "id": "EwlsemH22lSk",
        "outputId": "b17a4c5a-b32f-4136-8ea1-7dd0c34e3eef"
      },
      "source": [
        "Model4 = DecisionTreeRegressor(ccp_alpha=0.0, criterion='mse', max_depth=10,\r\n",
        "                      \r\n",
        "                      max_features='auto', max_leaf_nodes=None,\r\n",
        "                      \r\n",
        "                      min_impurity_decrease=0.0, min_impurity_split=None,\r\n",
        "                      \r\n",
        "                      min_samples_leaf=1, min_samples_split=3,\r\n",
        "                      \r\n",
        "                      min_weight_fraction_leaf=0.0, presort='deprecated',\r\n",
        "                      \r\n",
        "                      random_state=3, splitter='best')\r\n",
        "Model4.fit(train_data, train_labels)\r\n",
        "Pred4 = Model4.predict(test_data)\r\n",
        "\r\n",
        "print('MAE : ', mean_absolute_error(test_labels, Pred4 ))\r\n",
        "print('MSE : ', mean_squared_error(test_labels, Pred4 ))\r\n",
        "print('R^2 : ', r2_score(test_labels, Pred4 ))\r\n",
        "print('Var : ', explained_variance_score(test_labels, Pred4 ))\r\n",
        "print('Max : ', max_error(test_labels, Pred4 ))"
      ],
      "execution_count": 50,
      "outputs": [
        {
          "output_type": "stream",
          "text": [
            "MAE :  42.55817503102817\n",
            "MSE :  10098.317452316605\n",
            "R^2 :  0.8986141130419502\n",
            "Var :  0.8986633719110002\n",
            "Max :  922.72375\n"
          ],
          "name": "stdout"
        }
      ]
    },
    {
      "cell_type": "markdown",
      "metadata": {
        "id": "MgLAhASx3FwL"
      },
      "source": [
        "Old Parameters -------------------------------New Parameters\r\n",
        "\r\n",
        "MAE :  42.841940617746474-----------42.55817503102817\r\n",
        "\r\n",
        "MSE :  10347.625717452076-----------10098.317452316605\r\n",
        "\r\n",
        "R^2 :  0.8961110881859694-----------0.8986141130419502\r\n",
        "\r\n",
        "Var :  0.896182079743132------------0.8986633719110002\r\n",
        "\r\n",
        "Max :  922.72375--------------------922.72375"
      ]
    },
    {
      "cell_type": "markdown",
      "metadata": {
        "id": "cTa7js6wFYYs"
      },
      "source": [
        "## XgBoost with learning rate and number of estimators"
      ]
    },
    {
      "cell_type": "code",
      "metadata": {
        "id": "huC6AxZZFXR5"
      },
      "source": [
        "#param_grid = {\r\n",
        "#            'learning rate': [0.01, 0.05, 0.1, 0.2, 0.3],\r\n",
        "#            'min_child_weight': [1, 4, 7],\r\n",
        "#            'gamma': [0, 0.5, 1],\r\n",
        "#            'subsample': [0.8, 1],\r\n",
        "#            'colsample_bytree':[0.8, 1],\r\n",
        "#            'max_depth': [3, 6, 9],\r\n",
        "#            'n-estimators': [50,100,200]\r\n",
        "#            }#\r\n",
        "\r\n",
        "#grid_search = GridSearchCV(\r\n",
        "#            estimator=XGBRegressor(objective = 'reg:squarederror'),\r\n",
        "#            param_grid=param_grid,\r\n",
        "#            cv=5, scoring='neg_mean_squared_error', verbose=10, n_jobs=-1)\r\n",
        "\r\n",
        "#grid_result = grid_search.fit(train_data, train_labels)\r\n",
        "#results = grid_search.cv_results_\r\n",
        "#for mean_score, params in zip(results['mean_test_score'], results['params']):\r\n",
        "#    print(\"Mean score\", np.sqrt(-mean_score), \"with the following params\")\r\n",
        "#    print(params)\r\n",
        "\r\n",
        "#print(\"Best estim: \")\r\n",
        "#print(grid_search.best_estimator_)"
      ],
      "execution_count": null,
      "outputs": []
    },
    {
      "cell_type": "code",
      "metadata": {
        "colab": {
          "base_uri": "https://localhost:8080/"
        },
        "id": "YJUo5PpXHhQD",
        "outputId": "f077a2ca-a073-4425-b569-b990192b1b50"
      },
      "source": [
        "Model3 = XGBRegressor(objective = 'reg:squarederror',colsample_bytree=0.8, gamma=0,\r\n",
        "                      max_depth=9, min_child_weight=4, learning_rate=0.05, subsample=0.8,\r\n",
        "            n_estimators=200)\r\n",
        "Model3.fit(train_data, train_labels)\r\n",
        "Pred3 = Model3.predict(test_data)\r\n",
        "\r\n",
        "print('MAE : ', mean_absolute_error(test_labels, Pred3 ))\r\n",
        "print('MSE : ', mean_squared_error(test_labels, Pred3 ))\r\n",
        "print('R^2 : ', r2_score(test_labels, Pred3 ))\r\n",
        "print('Var : ', explained_variance_score(test_labels, Pred3 ))\r\n",
        "print('Max : ', max_error(test_labels, Pred3 ))"
      ],
      "execution_count": 52,
      "outputs": [
        {
          "output_type": "stream",
          "text": [
            "MAE :  34.82895552785271\n",
            "MSE :  6696.24227124527\n",
            "R^2 :  0.9327705367590278\n",
            "Var :  0.9327796643591775\n",
            "Max :  1012.6107690429687\n"
          ],
          "name": "stdout"
        }
      ]
    },
    {
      "cell_type": "markdown",
      "metadata": {
        "id": "qfYSYVWNHyIR"
      },
      "source": [
        "Old parameters New------------------Parameters\r\n",
        "\r\n",
        "MAE :  36.45372562953167-------34.82895552785271\r\n",
        "\r\n",
        "MSE :  7011.396019976234-------6696.24227124527\r\n",
        "\r\n",
        "R^2 :  0.9296064312044026 ------0.9327705367590278\r\n",
        "\r\n",
        "Var :  0.9296161064797657  -------0.9327796643591775\r\n",
        "\r\n",
        "Max :  1033.2645776367187------1012.6107690429687"
      ]
    }
  ]
}